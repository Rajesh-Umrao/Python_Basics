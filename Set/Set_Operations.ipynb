{
 "cells": [
  {
   "cell_type": "markdown",
   "metadata": {},
   "source": [
    "## Operation on Set "
   ]
  },
  {
   "cell_type": "markdown",
   "metadata": {},
   "source": [
    "#### 1) Union of Set "
   ]
  },
  {
   "cell_type": "code",
   "execution_count": 37,
   "metadata": {},
   "outputs": [
    {
     "name": "stdout",
     "output_type": "stream",
     "text": [
      "using union operator: {1, 2, 3, 4, 5, 6, 7} \n",
      "using union function: {1, 2, 3, 4, 5, 6, 7}\n"
     ]
    }
   ],
   "source": [
    "s1={1,2,3,4}\n",
    "s2={2,5,6,7}\n",
    "#using union operator \n",
    "su=s1|s2 \n",
    "print(f'using union operator: {su} ' )\n",
    "\n",
    "#using union function \n",
    "sf=s1.union(s2)\n",
    "print(f'using union function: {sf}')"
   ]
  },
  {
   "cell_type": "markdown",
   "metadata": {},
   "source": [
    "#### 2) Intersection of set "
   ]
  },
  {
   "cell_type": "code",
   "execution_count": 27,
   "metadata": {},
   "outputs": [
    {
     "name": "stdout",
     "output_type": "stream",
     "text": [
      "using operator: {2, 4} \n",
      "using function: {2, 4}\n"
     ]
    }
   ],
   "source": [
    "s1={1,2,3,4}\n",
    "s2={2,4,6,7}\n",
    "#using intersection operator \n",
    "su=s1&s2 \n",
    "print(f'using operator: {su} ' )\n",
    "\n",
    "#using intersection function \n",
    "sf=s1.intersection(s2)\n",
    "print(f'using function: {sf}')"
   ]
  },
  {
   "cell_type": "markdown",
   "metadata": {},
   "source": [
    "#### 3) Difference of sets "
   ]
  },
  {
   "cell_type": "code",
   "execution_count": 38,
   "metadata": {},
   "outputs": [
    {
     "name": "stdout",
     "output_type": "stream",
     "text": [
      "using operator s1-s2 : {1, 3} \n",
      "using operator s2-s1 : {6, 7} \n",
      "using operator s1-s2 :{1, 3}\n",
      "using operator s1-s2 :{6, 7}\n"
     ]
    }
   ],
   "source": [
    "s1={1,2,3,4}\n",
    "s2={2,4,6,7}\n",
    "#using difference operator \n",
    "print(f'using operator s1-s2 : {s1- s2 } ' )\n",
    "print(f'using operator s2-s1 : {s2- s1 } ' )\n",
    "\n",
    "#using difference function \n",
    "print(f'using operator s1-s2 :{s1.difference(s2)}')\n",
    "print(f'using operator s1-s2 :{s2.difference(s1)}')"
   ]
  },
  {
   "cell_type": "markdown",
   "metadata": {},
   "source": [
    "#### 4) Symmetric Difference "
   ]
  },
  {
   "cell_type": "code",
   "execution_count": 39,
   "metadata": {},
   "outputs": [
    {
     "name": "stdout",
     "output_type": "stream",
     "text": [
      "using operator : {1, 3, 6, 7} \n",
      "using function:{1, 3, 6, 7}\n"
     ]
    }
   ],
   "source": [
    "s1={1,2,3,4}\n",
    "s2={2,4,6,7}\n",
    "#using symmetric difference operator \n",
    "print(f'using operator : {s1^ s2 } ' )\n",
    "\n",
    "#using difference function \n",
    "print(f'using function:{s1.symmetric_difference(s2)}')"
   ]
  },
  {
   "cell_type": "markdown",
   "metadata": {},
   "source": [
    "#### 5) Superset and subset in sets "
   ]
  },
  {
   "cell_type": "code",
   "execution_count": 47,
   "metadata": {},
   "outputs": [
    {
     "name": "stdout",
     "output_type": "stream",
     "text": [
      "True\n",
      "False\n",
      "True\n",
      "False\n"
     ]
    }
   ],
   "source": [
    "s1={1,2,3,4}\n",
    "s2={2,4}\n",
    "\n",
    "#using operator \n",
    "print(s1>s2) #i.e. s1 is superset of s2 ? \n",
    "print(s2>s1) \n",
    "\n",
    "#using function \n",
    "print(s2.issubset(s1))\n",
    "print(s1.issubset(s2))\n",
    "\n"
   ]
  },
  {
   "cell_type": "markdown",
   "metadata": {},
   "source": [
    "\n",
    "## Set Inbuild Functions "
   ]
  },
  {
   "cell_type": "markdown",
   "metadata": {},
   "source": [
    "### 1) ADDING ITEMs in the existing set "
   ]
  },
  {
   "cell_type": "markdown",
   "metadata": {},
   "source": [
    "#### 1.1) add() function "
   ]
  },
  {
   "cell_type": "code",
   "execution_count": null,
   "metadata": {},
   "outputs": [
    {
     "name": "stdout",
     "output_type": "stream",
     "text": [
      "{1, 2, 3, 4}\n",
      "{'py', 1, 2, 3}\n"
     ]
    }
   ],
   "source": [
    "st1={1,2,3}\n",
    "st1.add(4)\n",
    "print(st1)\n",
    "\n",
    "#What happen if Duplicate item is added \n",
    "st2={1,2,3,'py'}\n",
    "st2.add(2)\n",
    "print(st2)"
   ]
  },
  {
   "cell_type": "markdown",
   "metadata": {},
   "source": [
    "#### 1.2) update() funtions "
   ]
  },
  {
   "cell_type": "code",
   "execution_count": 5,
   "metadata": {},
   "outputs": [
    {
     "name": "stdout",
     "output_type": "stream",
     "text": [
      "{1, 2, 'c', 'c++', 'java', 'py'}\n"
     ]
    }
   ],
   "source": [
    "st3={1,2,'py'}\n",
    "st3.update(['c', 'c++', 'java'])\n",
    "print(st3)"
   ]
  },
  {
   "cell_type": "markdown",
   "metadata": {},
   "source": [
    "### 2) REMOVING items from the set "
   ]
  },
  {
   "cell_type": "markdown",
   "metadata": {},
   "source": [
    "#### 2.1) remove() function "
   ]
  },
  {
   "cell_type": "code",
   "execution_count": 10,
   "metadata": {},
   "outputs": [
    {
     "name": "stdout",
     "output_type": "stream",
     "text": [
      "{1, 2, 'c++', 'py'}\n"
     ]
    }
   ],
   "source": [
    "st4=st3={1,2,'py', 'java', 'c++'}\n",
    "st4.remove('java')\n",
    "print(st4)\n",
    "\n",
    "#in case item is not present : throw error \n",
    "# st4.remove('html') #KeyError: 'html'\n"
   ]
  },
  {
   "cell_type": "markdown",
   "metadata": {},
   "source": [
    "#### 2.2) discard() function "
   ]
  },
  {
   "cell_type": "code",
   "execution_count": 16,
   "metadata": {},
   "outputs": [
    {
     "name": "stdout",
     "output_type": "stream",
     "text": [
      "{1, 2, 3, 'c++', 'java'}\n",
      "{1, 2, 3, 'c++', 'java'}\n"
     ]
    }
   ],
   "source": [
    "st5={1,2,3,'py', 'java', 'c++'}\n",
    "st5.discard('py')\n",
    "print(st5)\n",
    "st5.discard('c')\n",
    "print(st5)"
   ]
  },
  {
   "cell_type": "markdown",
   "metadata": {},
   "source": [
    "#### 2.3) pop() function"
   ]
  },
  {
   "cell_type": "code",
   "execution_count": 14,
   "metadata": {},
   "outputs": [
    {
     "name": "stdout",
     "output_type": "stream",
     "text": [
      "Removed item 1\n",
      "Set after removal {2, 3, 'c++', 'java', 'py'}\n"
     ]
    }
   ],
   "source": [
    "st6={1,2,3,'py', 'java', 'c++'}\n",
    "x=st6.pop()\n",
    "print(f'Removed item {x}\\nSet after removal {st6}')"
   ]
  },
  {
   "cell_type": "markdown",
   "metadata": {},
   "source": [
    "#### 2.4) clear() function"
   ]
  },
  {
   "cell_type": "code",
   "execution_count": 15,
   "metadata": {},
   "outputs": [
    {
     "name": "stdout",
     "output_type": "stream",
     "text": [
      "set()\n"
     ]
    }
   ],
   "source": [
    "st7={1,2,3,4,5}\n",
    "st7.clear()\n",
    "print(st7)"
   ]
  },
  {
   "cell_type": "markdown",
   "metadata": {},
   "source": [
    "### Python In-built Functions "
   ]
  },
  {
   "cell_type": "markdown",
   "metadata": {},
   "source": [
    "#### 1) del()"
   ]
  },
  {
   "cell_type": "code",
   "execution_count": 2,
   "metadata": {},
   "outputs": [],
   "source": [
    "s={1,2,3,4}\n",
    "del(s)\n",
    "# print(s) #Name error "
   ]
  },
  {
   "cell_type": "markdown",
   "metadata": {},
   "source": [
    "#### 3) len(), max() and min(), sum()"
   ]
  },
  {
   "cell_type": "code",
   "execution_count": 5,
   "metadata": {},
   "outputs": [
    {
     "name": "stdout",
     "output_type": "stream",
     "text": [
      "length: 5\n",
      "min: 1\n",
      "max: 10.5\n",
      "sum: 31.5\n"
     ]
    }
   ],
   "source": [
    "s={1,10.5, 3, 8, 9}\n",
    "\n",
    "#A) Length of set \n",
    "print(f'length: {len(s)}' )\n",
    "\n",
    "#B) min() of the set\n",
    "print(f'min: {min(s)}')\n",
    "\n",
    "#C) Max() of the set \n",
    "print(f'max: {max(s)}' )\n",
    "\n",
    "#D) Sum of the set \n",
    "print(f'sum: {sum(s)}' )"
   ]
  }
 ],
 "metadata": {
  "kernelspec": {
   "display_name": "Python 3",
   "language": "python",
   "name": "python3"
  },
  "language_info": {
   "codemirror_mode": {
    "name": "ipython",
    "version": 3
   },
   "file_extension": ".py",
   "mimetype": "text/x-python",
   "name": "python",
   "nbconvert_exporter": "python",
   "pygments_lexer": "ipython3",
   "version": "3.12.2"
  }
 },
 "nbformat": 4,
 "nbformat_minor": 2
}
