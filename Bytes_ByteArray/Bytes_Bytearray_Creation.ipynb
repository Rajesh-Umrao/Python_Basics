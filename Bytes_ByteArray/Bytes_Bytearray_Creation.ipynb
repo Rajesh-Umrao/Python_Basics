{
 "cells": [
  {
   "cell_type": "markdown",
   "metadata": {},
   "source": [
    "# 1) bytes creation  "
   ]
  },
  {
   "cell_type": "markdown",
   "metadata": {},
   "source": [
    "#### 1.1) from the list of integers "
   ]
  },
  {
   "cell_type": "code",
   "execution_count": 42,
   "metadata": {},
   "outputs": [
    {
     "name": "stdout",
     "output_type": "stream",
     "text": [
      "b'\\x02\\x0b\\x0f'\n",
      "<class 'bytes'>\n",
      "range must be 0 to 255\n",
      "str object cannot be interpreted as an integer\n",
      "b'raj'\n",
      "b'raj'\n",
      "<class 'bytes'>\n",
      "b'\\x00\\x00\\x00\\x00\\x00'\n"
     ]
    }
   ],
   "source": [
    "n =[2,11,15]\n",
    "bt=bytes(n)\n",
    "print(bt)\n",
    "print(type(bt))\n",
    "\n",
    "#CASES\n",
    "\n",
    "#note is element is > 256\n",
    "n1=[2, 300]\n",
    "try:\n",
    "    a=bytes(n1)\n",
    "except: print('range must be 0 to 255')\n",
    "\n",
    "\n",
    "#If you are passing/trying to convert string value\n",
    "n3=[1, 'raj']\n",
    "try: b3=bytes(n3)\n",
    "except: print('str object cannot be interpreted as an integer')\n",
    "\n",
    "#if data is input data is tring  \n",
    "s='raj'\n",
    "s1=bytes(s,encoding='utf-8' ) # if not specifying encoding then TypeError: string argument without an encoding\n",
    "print(s1) \n",
    "\n",
    "# if str you can use encode method\n",
    "a='raj'\n",
    "a1=a.encode()\n",
    "print(a1)\n",
    "print(type(a1))\n",
    "\n",
    "\n",
    "#if you are passing individual int value \n",
    "    #bytes function interpret as : user want to initialise 5-byte of bytes data\n",
    "    #hence it return 5-times null values\n",
    "print(bytes(5)) "
   ]
  },
  {
   "cell_type": "markdown",
   "metadata": {},
   "source": [
    "#### 1.2) Empty byte object "
   ]
  },
  {
   "cell_type": "code",
   "execution_count": 15,
   "metadata": {},
   "outputs": [
    {
     "name": "stdout",
     "output_type": "stream",
     "text": [
      "b''\n",
      "<class 'bytes'>\n"
     ]
    }
   ],
   "source": [
    "b = bytes()\n",
    "print(b)  # return empty byte objects \n",
    "print(type(b))"
   ]
  },
  {
   "cell_type": "markdown",
   "metadata": {},
   "source": [
    "# 2) bytearray creation"
   ]
  },
  {
   "cell_type": "markdown",
   "metadata": {},
   "source": [
    "#### 2.1) from list of integers "
   ]
  },
  {
   "cell_type": "code",
   "execution_count": 7,
   "metadata": {},
   "outputs": [
    {
     "name": "stdout",
     "output_type": "stream",
     "text": [
      "bytearray(b'\\x02\\x0b\\x0f')\n",
      "<class 'bytearray'>\n"
     ]
    }
   ],
   "source": [
    "n =[2,11,15]\n",
    "bt=bytearray(n)\n",
    "print(bt)\n",
    "print(type(bt))"
   ]
  },
  {
   "cell_type": "markdown",
   "metadata": {},
   "source": [
    "#### 2.2) Empty bytes objects"
   ]
  },
  {
   "cell_type": "code",
   "execution_count": 11,
   "metadata": {},
   "outputs": [
    {
     "name": "stdout",
     "output_type": "stream",
     "text": [
      "bytearray(b'')\n",
      "<class 'bytearray'>\n"
     ]
    }
   ],
   "source": [
    "b = bytearray()\n",
    "print(b)  # return empty bytearray objects \n",
    "print(type(b))"
   ]
  },
  {
   "cell_type": "markdown",
   "metadata": {},
   "source": [
    "## List and bytes/bytearray datatypes comparison"
   ]
  },
  {
   "cell_type": "code",
   "execution_count": 36,
   "metadata": {},
   "outputs": [
    {
     "name": "stdout",
     "output_type": "stream",
     "text": [
      "size of list: 88\n",
      "size of bytes object 36\n",
      "2\n",
      "11\n",
      "15\n"
     ]
    }
   ],
   "source": [
    "#Let's store the 2,11, 15 number:\n",
    "#1st) in List \n",
    "l=[2,11,15]\n",
    "\n",
    "#2nd) in bytes object \n",
    "b=bytes(l)\n",
    "\n",
    "\n",
    "#IMPORTANCE \n",
    "#1) MEMORIES USED \n",
    "import sys\n",
    "print(f'size of list: {sys.getsizeof(l)}')\n",
    "print(f'size of bytes object {sys.getsizeof(b)}')\n",
    "\n",
    "\n",
    "#2) Iterate iterating over bytes objects \n",
    "for i in b:\n",
    "    print(i)\n",
    "\n"
   ]
  }
 ],
 "metadata": {
  "kernelspec": {
   "display_name": "Python 3",
   "language": "python",
   "name": "python3"
  },
  "language_info": {
   "codemirror_mode": {
    "name": "ipython",
    "version": 3
   },
   "file_extension": ".py",
   "mimetype": "text/x-python",
   "name": "python",
   "nbconvert_exporter": "python",
   "pygments_lexer": "ipython3",
   "version": "3.12.2"
  }
 },
 "nbformat": 4,
 "nbformat_minor": 2
}
