{
 "cells": [
  {
   "cell_type": "markdown",
   "metadata": {},
   "source": [
    "# Operation on byte data "
   ]
  },
  {
   "cell_type": "markdown",
   "metadata": {},
   "source": [
    "#### 1) Concatenation"
   ]
  },
  {
   "cell_type": "code",
   "execution_count": 5,
   "metadata": {},
   "outputs": [
    {
     "name": "stdout",
     "output_type": "stream",
     "text": [
      "b'\\x01\\x02\\x03'\n",
      "b'\\x04\\x05'\n",
      "concatenated object: b'\\x01\\x02\\x03\\x04\\x05'\n"
     ]
    }
   ],
   "source": [
    "l1=[1,2,3]\n",
    "l2=[4,5]\n",
    "b1=bytes(l1)\n",
    "b2=bytes(l2)\n",
    "c=b1+b2\n",
    "print(b1)\n",
    "print(b2)\n",
    "print('concatenated object:', c)"
   ]
  },
  {
   "cell_type": "markdown",
   "metadata": {},
   "source": [
    "#### 2) Multiplicatin/Repetition "
   ]
  },
  {
   "cell_type": "code",
   "execution_count": 6,
   "metadata": {},
   "outputs": [
    {
     "name": "stdout",
     "output_type": "stream",
     "text": [
      "b'\\x01\\x02\\x03\\x01\\x02\\x03'\n"
     ]
    }
   ],
   "source": [
    "b=bytes([1,2,3])\n",
    "print(b*2)"
   ]
  },
  {
   "cell_type": "markdown",
   "metadata": {},
   "source": [
    "#### 3) Membership operator "
   ]
  },
  {
   "cell_type": "code",
   "execution_count": null,
   "metadata": {},
   "outputs": [
    {
     "name": "stdout",
     "output_type": "stream",
     "text": [
      "b'\\x01\\x02\\x03\\x04\\x05'\n",
      "True\n"
     ]
    }
   ],
   "source": [
    "b=bytes([1,2,3,4,5])\n",
    "print(b)\n",
    "print(1 in b)"
   ]
  },
  {
   "cell_type": "markdown",
   "metadata": {},
   "source": [
    "# Python Built-in operators "
   ]
  },
  {
   "cell_type": "markdown",
   "metadata": {},
   "source": [
    "#### 1) len()"
   ]
  },
  {
   "cell_type": "code",
   "execution_count": null,
   "metadata": {},
   "outputs": [
    {
     "name": "stdout",
     "output_type": "stream",
     "text": [
      "length of bytes object: 4\n",
      "length of bytearray object: 4\n"
     ]
    }
   ],
   "source": [
    "l=[1,2,3,4]\n",
    "b1=bytes(l)\n",
    "b2=bytearray(l)\n",
    "print(f'length of bytes object: {len(b1)}')\n",
    "print(f'length of bytearray object: {len(b2)}')"
   ]
  },
  {
   "cell_type": "markdown",
   "metadata": {},
   "source": [
    "#### 2) Sum()"
   ]
  },
  {
   "cell_type": "code",
   "execution_count": 10,
   "metadata": {},
   "outputs": [
    {
     "name": "stdout",
     "output_type": "stream",
     "text": [
      "sum bytes object: 10\n",
      "sum of bytearray object: 10\n"
     ]
    }
   ],
   "source": [
    "l=[1,2,3,4]\n",
    "b1=bytes(l)\n",
    "b2=bytearray(l)\n",
    "print(f'sum bytes object: {sum(b1)}')\n",
    "print(f'sum of bytearray object: {sum(b2)}')"
   ]
  },
  {
   "cell_type": "markdown",
   "metadata": {},
   "source": [
    "#### 3) max() and min()"
   ]
  },
  {
   "cell_type": "code",
   "execution_count": 15,
   "metadata": {},
   "outputs": [
    {
     "name": "stdout",
     "output_type": "stream",
     "text": [
      "max: 4\n",
      "min: 1\n"
     ]
    }
   ],
   "source": [
    "l=[1,2,3,4]\n",
    "b=bytes(l)\n",
    "print(f'max: {max(b)}')\n",
    "print(f'min: {min(b2)}')"
   ]
  },
  {
   "cell_type": "markdown",
   "metadata": {},
   "source": [
    "# Python Keywords /statement "
   ]
  },
  {
   "cell_type": "markdown",
   "metadata": {},
   "source": [
    "#### 1) Deletion of BYTES object "
   ]
  },
  {
   "cell_type": "code",
   "execution_count": 18,
   "metadata": {},
   "outputs": [
    {
     "name": "stdout",
     "output_type": "stream",
     "text": [
      "bytes object is immutable\n",
      "name error\n"
     ]
    }
   ],
   "source": [
    "# Individual object cant be deleted as bytes object is immutable \n",
    "l1=[1,2,3,4]\n",
    "b1=bytes(l)\n",
    "try: del (b1[1])\n",
    "except: print('bytes object is immutable')\n",
    "\n",
    "# but whole object can be deleted \n",
    "l2=[5,6,7]\n",
    "b2=bytes(l2)\n",
    "del(b2)\n",
    "try: print(b2) \n",
    "except: print('name error')"
   ]
  },
  {
   "cell_type": "markdown",
   "metadata": {},
   "source": [
    "# Bytes's built-in function"
   ]
  },
  {
   "cell_type": "markdown",
   "metadata": {},
   "source": [
    "#### 1)string related function"
   ]
  },
  {
   "cell_type": "code",
   "execution_count": 38,
   "metadata": {},
   "outputs": [
    {
     "name": "stdout",
     "output_type": "stream",
     "text": [
      "upper case:  b'RAJESH'\n",
      "lower case:  b'rajesh'\n",
      "lower case:  b'Rajesh'\n",
      "find:  2\n",
      "rfind 5\n",
      "index:  2\n"
     ]
    }
   ],
   "source": [
    "s='rajesh'\n",
    "b=bytes(s, encoding= 'utf-8')\n",
    "\n",
    "# upper and lower \n",
    "print('upper case: ', b.upper())\n",
    "print('lower case: ', b.lower())\n",
    "\n",
    "#ttile \n",
    "print('lower case: ', b.title())\n",
    "\n",
    "#find and rfind \n",
    "print('find: ', b.find(b'j'))\n",
    "print('rfind', b.rfind(b'h'))\n",
    "\n",
    "#index \n",
    "print('index: ', b.index(b'j'))\n"
   ]
  }
 ],
 "metadata": {
  "kernelspec": {
   "display_name": "Python 3",
   "language": "python",
   "name": "python3"
  },
  "language_info": {
   "codemirror_mode": {
    "name": "ipython",
    "version": 3
   },
   "file_extension": ".py",
   "mimetype": "text/x-python",
   "name": "python",
   "nbconvert_exporter": "python",
   "pygments_lexer": "ipython3",
   "version": "3.12.2"
  }
 },
 "nbformat": 4,
 "nbformat_minor": 2
}
