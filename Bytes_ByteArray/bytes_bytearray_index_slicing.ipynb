{
 "cells": [
  {
   "cell_type": "markdown",
   "metadata": {},
   "source": [
    "## Indexing "
   ]
  },
  {
   "cell_type": "code",
   "execution_count": null,
   "metadata": {},
   "outputs": [
    {
     "name": "stdout",
     "output_type": "stream",
     "text": [
      "b'\\x01\\x0b\\x1e'\n",
      "11 <class 'int'>\n"
     ]
    }
   ],
   "source": [
    "l=[1,11, 30]\n",
    "b=bytes(l)\n",
    "print(b)  #o/p::  b'\\x01\\x0b\\x1e'\n",
    "#access the element at index 1\n",
    "print(b[1], type(b[1]))"
   ]
  },
  {
   "cell_type": "code",
   "execution_count": 28,
   "metadata": {},
   "outputs": [
    {
     "name": "stdout",
     "output_type": "stream",
     "text": [
      "b'rajesh'\n",
      "101 <class 'int'>\n",
      "e\n"
     ]
    }
   ],
   "source": [
    "# if bytes data is string \n",
    "s='rajesh'\n",
    "b=bytes(s, encoding='utf-8')\n",
    "print(b)\n",
    "\n",
    "#access the element at index 3 \n",
    "print(b[3], type(b[3]))  # it return ASCII code  \n",
    "\n",
    "#printing the char of corresponding ASCII \n",
    "print(chr(b[3]))\n",
    "#"
   ]
  },
  {
   "cell_type": "markdown",
   "metadata": {},
   "source": [
    "# slicing "
   ]
  },
  {
   "cell_type": "code",
   "execution_count": 22,
   "metadata": {},
   "outputs": [
    {
     "name": "stdout",
     "output_type": "stream",
     "text": [
      "b'\\x01\\x0b\\x1e'\n",
      "b'\\x0b\\x1e' <class 'bytes'>\n"
     ]
    }
   ],
   "source": [
    "l=[1,11, 30]\n",
    "b=bytes(l)\n",
    "print(b)  #o/p::  b'\\x01\\x0b\\x1e'\n",
    "#access the element at index 1 to 2 \n",
    "print(b[1:3], type(b[1:3])) #it return bytes bject "
   ]
  },
  {
   "cell_type": "code",
   "execution_count": 29,
   "metadata": {},
   "outputs": [
    {
     "name": "stdout",
     "output_type": "stream",
     "text": [
      "b'rajesh'\n",
      "b'aje' <class 'int'>\n"
     ]
    }
   ],
   "source": [
    "# if bytes data is string \n",
    "s='rajesh'\n",
    "b=bytes(s, encoding='utf-8')\n",
    "print(b)\n",
    "\n",
    "#access the element at index 3 \n",
    "print(b[1:4], type(b[3]))  "
   ]
  }
 ],
 "metadata": {
  "kernelspec": {
   "display_name": "Python 3",
   "language": "python",
   "name": "python3"
  },
  "language_info": {
   "codemirror_mode": {
    "name": "ipython",
    "version": 3
   },
   "file_extension": ".py",
   "mimetype": "text/x-python",
   "name": "python",
   "nbconvert_exporter": "python",
   "pygments_lexer": "ipython3",
   "version": "3.12.2"
  }
 },
 "nbformat": 4,
 "nbformat_minor": 2
}
