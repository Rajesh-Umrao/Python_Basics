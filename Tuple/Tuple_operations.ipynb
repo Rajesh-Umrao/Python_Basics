{
 "cells": [
  {
   "cell_type": "markdown",
   "metadata": {},
   "source": [
    "## Tuple Operations "
   ]
  },
  {
   "cell_type": "markdown",
   "metadata": {},
   "source": [
    "#### 1) Concatenation "
   ]
  },
  {
   "cell_type": "code",
   "execution_count": 1,
   "metadata": {},
   "outputs": [
    {
     "name": "stdout",
     "output_type": "stream",
     "text": [
      "student details: ('raj', 'up', 1, 'science', 90)\n"
     ]
    }
   ],
   "source": [
    "tp1=('raj', 'up') #personal details \n",
    "tp2=(1, 'science', 90) #academic details \n",
    "tp=tp1+tp2 \n",
    "print(f'student details: {tp}') \n"
   ]
  },
  {
   "cell_type": "markdown",
   "metadata": {},
   "source": [
    "#### 2) Multiplication: Repeatation of tuple "
   ]
  },
  {
   "cell_type": "code",
   "execution_count": 2,
   "metadata": {},
   "outputs": [
    {
     "name": "stdout",
     "output_type": "stream",
     "text": [
      "(10, 13, 14, 10, 13, 14)\n"
     ]
    }
   ],
   "source": [
    "tp3=(10,13,14)\n",
    "print(tp3*2)"
   ]
  },
  {
   "cell_type": "markdown",
   "metadata": {},
   "source": [
    "#### 3) Deletion of Tuple "
   ]
  },
  {
   "cell_type": "code",
   "execution_count": 5,
   "metadata": {},
   "outputs": [],
   "source": [
    "#Tuple is immutable-hence you can only delete the entire tuple \n",
    "    #can't delete the individual tuple \n",
    "    #if you try the deletion of individual it will show error \n",
    "\n",
    "tp4= (1,2,3,4)\n",
    "del(tp4)\n",
    "# print(tp4)  # name 'tp4' is not defined"
   ]
  },
  {
   "cell_type": "markdown",
   "metadata": {},
   "source": [
    "#### 4) Iterating over tuple "
   ]
  },
  {
   "cell_type": "code",
   "execution_count": 8,
   "metadata": {},
   "outputs": [
    {
     "name": "stdout",
     "output_type": "stream",
     "text": [
      "python c 1 2 c++ "
     ]
    }
   ],
   "source": [
    "tp5=('python', 'c', 1,2,'c++')\n",
    "for i in tp5:\n",
    "    print(i, end=' ')"
   ]
  },
  {
   "cell_type": "markdown",
   "metadata": {},
   "source": [
    "#### 5) Membership "
   ]
  },
  {
   "cell_type": "code",
   "execution_count": 9,
   "metadata": {},
   "outputs": [
    {
     "name": "stdout",
     "output_type": "stream",
     "text": [
      "present\n"
     ]
    }
   ],
   "source": [
    "tp6=('python', 'c', 1,2,'c++')\n",
    "if 'c++' in tp6:\n",
    "    print('present')\n",
    "else: print('not present')"
   ]
  },
  {
   "cell_type": "markdown",
   "metadata": {},
   "source": [
    "#### 6) len() of tuple "
   ]
  },
  {
   "cell_type": "code",
   "execution_count": 11,
   "metadata": {},
   "outputs": [
    {
     "name": "stdout",
     "output_type": "stream",
     "text": [
      "5\n"
     ]
    }
   ],
   "source": [
    "tp7=(1,2, [10,20], 'c', 'c++')\n",
    "print(len(tp7))"
   ]
  },
  {
   "cell_type": "markdown",
   "metadata": {},
   "source": [
    "#### 7) Index() "
   ]
  },
  {
   "cell_type": "code",
   "execution_count": 16,
   "metadata": {},
   "outputs": [
    {
     "name": "stdout",
     "output_type": "stream",
     "text": [
      "3\n"
     ]
    }
   ],
   "source": [
    "tp8=(1,2,4,'py', 'c', 'c++', 'py', 'c', 'c++')\n",
    "print(tp8.index('py'))\n"
   ]
  },
  {
   "cell_type": "markdown",
   "metadata": {},
   "source": [
    "#### 8) count()"
   ]
  },
  {
   "cell_type": "code",
   "execution_count": 17,
   "metadata": {},
   "outputs": [
    {
     "name": "stdout",
     "output_type": "stream",
     "text": [
      "2\n"
     ]
    }
   ],
   "source": [
    "tp9=(1,2,4,'py', 'c', 'c++', 'py', 'c', 'c++')\n",
    "x=tp9.count('py')\n",
    "print(x)"
   ]
  },
  {
   "cell_type": "markdown",
   "metadata": {},
   "source": [
    "#### 9) Min() and Max() & sum() - Python Inbuild functions"
   ]
  },
  {
   "cell_type": "code",
   "execution_count": 23,
   "metadata": {},
   "outputs": [
    {
     "name": "stdout",
     "output_type": "stream",
     "text": [
      "Maximum: 9.1\n",
      "Minimum: 1\n",
      "summation : 26.6\n"
     ]
    }
   ],
   "source": [
    "tp10=(1,2,3,4,4.5, 3,9.1 )\n",
    "print(f'Maximum: {max(tp10)}')\n",
    "print(f'Minimum: {min(tp10)}')\n",
    "print(f'summation : {sum(tp10)}')"
   ]
  },
  {
   "cell_type": "markdown",
   "metadata": {},
   "source": [
    "#### 10) ALL() & ANY() function "
   ]
  },
  {
   "cell_type": "code",
   "execution_count": 26,
   "metadata": {},
   "outputs": [
    {
     "name": "stdout",
     "output_type": "stream",
     "text": [
      "False\n",
      "True\n"
     ]
    }
   ],
   "source": [
    "#ALL function return true if all element are true\n",
    "tp11=(1,2,3,5,0)\n",
    "print(all(tp11))\n",
    "\n",
    "#ANY function return true if any item is true \n",
    "print(any(tp11))"
   ]
  },
  {
   "cell_type": "markdown",
   "metadata": {},
   "source": [
    "#### 11) Sorted() function "
   ]
  },
  {
   "cell_type": "code",
   "execution_count": 29,
   "metadata": {},
   "outputs": [
    {
     "name": "stdout",
     "output_type": "stream",
     "text": [
      "[-2, 1, 3, 4, 5, 9, 12]\n"
     ]
    }
   ],
   "source": [
    "tp12=(1,5,3,4,-2, 9,12)\n",
    "print(sorted(tp12)) #always return a list "
   ]
  },
  {
   "cell_type": "markdown",
   "metadata": {},
   "source": [
    "#### 12) Modifying Nested Items in a Tuple (e.g., a List Inside a Tuple)"
   ]
  },
  {
   "cell_type": "code",
   "execution_count": 33,
   "metadata": {},
   "outputs": [
    {
     "name": "stdout",
     "output_type": "stream",
     "text": [
      "(1, 2, [100, 500, 300], 5, 6)\n"
     ]
    }
   ],
   "source": [
    "t13=(1,2,[100, 200, 300], 5,6)\n",
    "\n",
    "#modiying the 2nd item of list \n",
    "t13[2][1]=500\n",
    "print(t13)\n",
    "\n",
    "#However if we try to replace the item if will throw error\n",
    "# t13[2]=500\n",
    "# print(t13) \n",
    "            ##o/p TypeError: 'tuple' object does not support item assignment"
   ]
  }
 ],
 "metadata": {
  "kernelspec": {
   "display_name": "Python 3",
   "language": "python",
   "name": "python3"
  },
  "language_info": {
   "codemirror_mode": {
    "name": "ipython",
    "version": 3
   },
   "file_extension": ".py",
   "mimetype": "text/x-python",
   "name": "python",
   "nbconvert_exporter": "python",
   "pygments_lexer": "ipython3",
   "version": "3.12.2"
  }
 },
 "nbformat": 4,
 "nbformat_minor": 2
}
