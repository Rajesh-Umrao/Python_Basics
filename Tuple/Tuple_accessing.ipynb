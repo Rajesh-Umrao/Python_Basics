{
 "cells": [
  {
   "cell_type": "markdown",
   "metadata": {},
   "source": [
    "## Accessing the items from the tuple "
   ]
  },
  {
   "cell_type": "markdown",
   "metadata": {},
   "source": [
    "#### 1) Indexing: to aceess individual items "
   ]
  },
  {
   "cell_type": "code",
   "execution_count": 6,
   "metadata": {},
   "outputs": [
    {
     "name": "stdout",
     "output_type": "stream",
     "text": [
      "EE\n",
      "3\n"
     ]
    }
   ],
   "source": [
    "tp=('raj', 1, 'EE', 2,3,4,5)\n",
    "print(tp[2]) #print element at index 2\n",
    "print(tp[4]) #print element at index 4"
   ]
  },
  {
   "cell_type": "markdown",
   "metadata": {},
   "source": [
    "### 2) Slicing : Printing agroup of elements "
   ]
  },
  {
   "cell_type": "code",
   "execution_count": 7,
   "metadata": {},
   "outputs": [
    {
     "name": "stdout",
     "output_type": "stream",
     "text": [
      "('EE', 2, 3)\n"
     ]
    }
   ],
   "source": [
    "tp=('raj', 1, 'EE', 2,3,4,5)\n",
    "print(tp[2:5]) "
   ]
  },
  {
   "cell_type": "markdown",
   "metadata": {},
   "source": [
    "## Tuple Packing and Upacking "
   ]
  },
  {
   "cell_type": "markdown",
   "metadata": {},
   "source": [
    "#### 1) Tuple packing "
   ]
  },
  {
   "cell_type": "code",
   "execution_count": null,
   "metadata": {},
   "outputs": [],
   "source": [
    "#Tuple packing: means collecting multiple value in tuple \n",
    "    #collection of student data having name, branch, roll No,& marks  \n",
    "\n",
    "tp=('raj','EE', 1, 90)"
   ]
  },
  {
   "cell_type": "markdown",
   "metadata": {},
   "source": [
    "#### 2) Tuple unpacking "
   ]
  },
  {
   "cell_type": "code",
   "execution_count": 11,
   "metadata": {},
   "outputs": [
    {
     "name": "stdout",
     "output_type": "stream",
     "text": [
      "raj\n",
      "EE\n",
      "1\n",
      "90\n"
     ]
    }
   ],
   "source": [
    "#tuple unpacking means extracting value from a tuple into individual variables\n",
    "tp=('raj','EE', 1, 90)\n",
    "name, branch, roll_no, marks =tp\n",
    "print(name)\n",
    "print(branch)\n",
    "print(roll_no)\n",
    "print(marks) \n"
   ]
  }
 ],
 "metadata": {
  "kernelspec": {
   "display_name": "Python 3",
   "language": "python",
   "name": "python3"
  },
  "language_info": {
   "codemirror_mode": {
    "name": "ipython",
    "version": 3
   },
   "file_extension": ".py",
   "mimetype": "text/x-python",
   "name": "python",
   "nbconvert_exporter": "python",
   "pygments_lexer": "ipython3",
   "version": "3.12.2"
  }
 },
 "nbformat": 4,
 "nbformat_minor": 2
}
