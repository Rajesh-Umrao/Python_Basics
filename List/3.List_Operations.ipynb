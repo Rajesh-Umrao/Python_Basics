{
 "cells": [
  {
   "cell_type": "markdown",
   "metadata": {},
   "source": [
    "## Operation on list "
   ]
  },
  {
   "cell_type": "markdown",
   "metadata": {},
   "source": [
    "### 1) Concatenation "
   ]
  },
  {
   "cell_type": "code",
   "execution_count": null,
   "metadata": {},
   "outputs": [
    {
     "name": "stdout",
     "output_type": "stream",
     "text": [
      "[1, 2, 3, 'good', 3.2, (1+2j), 'python', 5, 6]\n"
     ]
    }
   ],
   "source": [
    "l1=[1,2,3,'good', 3.2, 1+2j] #Note list can hold Hetrogeneous items  \n",
    "l2= ['python', 5,6]\n",
    "\n",
    "#concatenate: Return the a list having elements from both lists  \n",
    "l3=l1+l2\n",
    "print(l3) "
   ]
  },
  {
   "cell_type": "markdown",
   "metadata": {},
   "source": [
    "### 2) Multiplication"
   ]
  },
  {
   "cell_type": "code",
   "execution_count": null,
   "metadata": {},
   "outputs": [
    {
     "name": "stdout",
     "output_type": "stream",
     "text": [
      "['good', 1, 2, 'good', 1, 2]\n"
     ]
    }
   ],
   "source": [
    "l1= ['good', 1,2]\n",
    "#Multiplication: return into the list having repeatetive items \n",
    "l2=l1*2\n",
    "print(l2)"
   ]
  },
  {
   "cell_type": "markdown",
   "metadata": {},
   "source": [
    "### 3) Deletion \n",
    "##### Since List is mutation hence we can delete: Either Entire string Or specific or part of it \n",
    "\n"
   ]
  },
  {
   "cell_type": "code",
   "execution_count": 24,
   "metadata": {},
   "outputs": [],
   "source": [
    "#A) Deleting of Entire string \n",
    "l1=[1,2,3,3]\n",
    "del(l1)\n",
    "# print(l1)  #o/p: NameError: name 'l1' is not defined"
   ]
  },
  {
   "cell_type": "code",
   "execution_count": 7,
   "metadata": {},
   "outputs": [
    {
     "name": "stdout",
     "output_type": "stream",
     "text": [
      "[1, 3.2, 'c', 'c++']\n"
     ]
    }
   ],
   "source": [
    "#B) Deleting specific items: e.g. delete 3rd item  \n",
    "l2=[1, 3.2, 'Python', 'c', 'c++']\n",
    "del l2[2]\n",
    "print(l2)"
   ]
  },
  {
   "cell_type": "code",
   "execution_count": 8,
   "metadata": {},
   "outputs": [
    {
     "name": "stdout",
     "output_type": "stream",
     "text": [
      "[1, 2, 3, 4]\n"
     ]
    }
   ],
   "source": [
    "#C) deleting slice of items \n",
    "l3=[1,2,'python', 'c', 'c++', 'java', 3,4]\n",
    "del l3[2:6]\n",
    "print(l3)\n"
   ]
  },
  {
   "cell_type": "code",
   "execution_count": 17,
   "metadata": {},
   "outputs": [
    {
     "name": "stdout",
     "output_type": "stream",
     "text": [
      "[5, 10, 20, 30, 2, 5, 10]\n"
     ]
    }
   ],
   "source": [
    "#D) Removing an Item by Value remove()\n",
    "    #Use remove() to delete an element by its value at 1st occurrence \n",
    "l4=[2,5,10,20,30,2, 5,10]\n",
    "l4.remove(2)\n",
    "print(l4)"
   ]
  },
  {
   "cell_type": "code",
   "execution_count": 16,
   "metadata": {},
   "outputs": [
    {
     "name": "stdout",
     "output_type": "stream",
     "text": [
      "String is: [10, 2, 3, 6]\n",
      "poped or deleted item: 15\n"
     ]
    }
   ],
   "source": [
    "#E) Use pop() to remove an element by index and return it:\n",
    "l5=[10,15, 2,3,6]\n",
    "x=l5.pop(1)\n",
    "print(f'String is: {l5}\\npoped or deleted item: {x}')"
   ]
  },
  {
   "cell_type": "code",
   "execution_count": null,
   "metadata": {},
   "outputs": [
    {
     "name": "stdout",
     "output_type": "stream",
     "text": [
      "[]\n"
     ]
    }
   ],
   "source": [
    "#F) clear(): Clearing the elements but keep the list \n",
    "    #i.e. it will return an empty string []\n",
    "l6= [1,2,4,5,6]\n",
    "l6.clear()\n",
    "print(l6)"
   ]
  },
  {
   "cell_type": "markdown",
   "metadata": {},
   "source": [
    "### 4)Iteration over list "
   ]
  },
  {
   "cell_type": "code",
   "execution_count": 22,
   "metadata": {},
   "outputs": [
    {
     "name": "stdout",
     "output_type": "stream",
     "text": [
      "1 2 3 python java c c++ "
     ]
    }
   ],
   "source": [
    "l7=[1,2,3, 'python', 'java', 'c', 'c++']\n",
    "for i in l7:\n",
    "    print(i, end=' ')"
   ]
  },
  {
   "cell_type": "markdown",
   "metadata": {},
   "source": [
    "### 5) Membership operator "
   ]
  },
  {
   "cell_type": "code",
   "execution_count": 23,
   "metadata": {},
   "outputs": [
    {
     "name": "stdout",
     "output_type": "stream",
     "text": [
      "present\n"
     ]
    }
   ],
   "source": [
    "l8=['python', 'java', 'c++', 'c']\n",
    "if 'python' in l8:\n",
    "    print('present')\n",
    "else: print('Not present')"
   ]
  },
  {
   "cell_type": "markdown",
   "metadata": {},
   "source": [
    "### 6) len() : length operator to find the length of the list "
   ]
  },
  {
   "cell_type": "code",
   "execution_count": 25,
   "metadata": {},
   "outputs": [
    {
     "name": "stdout",
     "output_type": "stream",
     "text": [
      "length of string is: 5\n"
     ]
    }
   ],
   "source": [
    "l9=[1,2,'python', [10,20], 3+4j]\n",
    "x=len(l9) #return a value \n",
    "print(f'length of string is: {x}')"
   ]
  },
  {
   "cell_type": "markdown",
   "metadata": {},
   "source": [
    "### 7) max() and Min() : value in list "
   ]
  },
  {
   "cell_type": "code",
   "execution_count": null,
   "metadata": {},
   "outputs": [
    {
     "name": "stdout",
     "output_type": "stream",
     "text": [
      "maximum number is: 4.5\n",
      "Minimum number is: 1\n",
      "maximum string: python\n",
      "minimum string:c\n",
      "maximum string: piecharmis\n",
      "minimum string:c\n"
     ]
    }
   ],
   "source": [
    "#Note: max() & min() can be only evaluated if  list is having same data type  \n",
    "l10=[1,2,4,3.8, 4.5] \n",
    "\n",
    "#if list is having int or float  \n",
    "print(f'maximum number is: {max(l10)}\\nMinimum number is: {min(l10)}')\n",
    "\n",
    "#if list have string elements \n",
    "l11=['python', 'c', 'jave', 'piecharmis']\n",
    "print(f'maximum string: {max(l11)}\\nminimum string:{min(l11)}') #by defaust is compare ASCII num\n",
    "\n",
    "print(f'maximum string: {max(l11, key=len)}\\nminimum string:{min(l11, key=len)}') #add key to compare len\n"
   ]
  },
  {
   "cell_type": "markdown",
   "metadata": {},
   "source": [
    "### 8) append() method"
   ]
  },
  {
   "cell_type": "markdown",
   "metadata": {},
   "source": [
    "##### 8.1)append() method: it add one element at a time "
   ]
  },
  {
   "cell_type": "code",
   "execution_count": 55,
   "metadata": {},
   "outputs": [
    {
     "name": "stdout",
     "output_type": "stream",
     "text": [
      "final list: ['python', 'java', 'c', 'c++', 'html']\n"
     ]
    }
   ],
   "source": [
    "l12=['python', 'java']\n",
    "l13=['c', 'c++', 'html']\n",
    "\n",
    "#append items of l13 into l12 list \n",
    "for i in l13:\n",
    "    l12.append(i)\n",
    "print(f'final list: {l12}')"
   ]
  },
  {
   "cell_type": "markdown",
   "metadata": {},
   "source": [
    "##### 8.2) extend() method: it add multiple items at a time"
   ]
  },
  {
   "cell_type": "code",
   "execution_count": 54,
   "metadata": {},
   "outputs": [
    {
     "name": "stdout",
     "output_type": "stream",
     "text": [
      "None\n",
      "['python', 'java', 'c', 'c++', 'html', 'c', 'c++', 'html']\n"
     ]
    }
   ],
   "source": [
    "l14=['python', 'java']\n",
    "l15=['c', 'c++', 'html']\n",
    "l14.extend(l15) #it do not return any value it only modify \n",
    "print(l14.extend(l15)) #o/p: None  \n",
    "print(l14)"
   ]
  },
  {
   "cell_type": "markdown",
   "metadata": {},
   "source": [
    "### 9) insert() method"
   ]
  },
  {
   "cell_type": "code",
   "execution_count": 57,
   "metadata": {},
   "outputs": [
    {
     "name": "stdout",
     "output_type": "stream",
     "text": [
      "['python', 'c', 'c++', 1, 2, 3]\n"
     ]
    }
   ],
   "source": [
    "l16=['python','c',1,2,3]\n",
    "#inset the \"c++\" at index 2\n",
    "l16.insert(2,'c++')\n",
    "print(l16)"
   ]
  },
  {
   "cell_type": "markdown",
   "metadata": {},
   "source": [
    "# Practical Application"
   ]
  },
  {
   "cell_type": "markdown",
   "metadata": {},
   "source": [
    "### How to remove Duplicates ? "
   ]
  },
  {
   "cell_type": "code",
   "execution_count": 72,
   "metadata": {},
   "outputs": [
    {
     "name": "stdout",
     "output_type": "stream",
     "text": [
      "using set: [3, 4, 5, 6, 10]\n",
      "using: for loop[5, 10, 4, 3, 6]\n",
      "using list comprehension: [5, 10, 4, 3, 6]\n",
      "using Dict: [5, 10, 4, 3, 6]\n"
     ]
    }
   ],
   "source": [
    "#list having duplicates \n",
    "data=[5,10,10,4,3,5,5,3,6]\n",
    "\n",
    "#1st way: using set ---->as set hold unique value \n",
    "        #PROBLEM: order is not Ppreserved \n",
    "print (f'using set: {list(set(data))}') # type casting: 1st cast> set then back to list \n",
    "\n",
    "#2nd: ways: Using Normal loop \n",
    "    #Advantage: Here ordered is preserved\n",
    "    # Problem: NO change in Data / print(data)= [5,10,10,4,3,5,5,3,6]\n",
    "new_data_1=[]\n",
    "for i in data:\n",
    "    if i not in new_data_1:\n",
    "        new_data_1.append(i)\n",
    "print(f'using: for loop{new_data_1}')\n",
    "\n",
    "#3rd: using list comprehension \n",
    "new_data_lc=[]\n",
    "[new_data_lc.append(i) for i in data if i not in new_data_lc]\n",
    "print(f'using list comprehension: {new_data_lc}')\n",
    "\n",
    "\n",
    "#4th way: using dictionary #recommended ways  \n",
    "x=dict.fromkeys(data) # return {5: None, 10: None, 4: None, 3: None, 6: None}\n",
    "print(f'using Dict: {list(x)}')\n"
   ]
  }
 ],
 "metadata": {
  "kernelspec": {
   "display_name": "Python 3",
   "language": "python",
   "name": "python3"
  },
  "language_info": {
   "codemirror_mode": {
    "name": "ipython",
    "version": 3
   },
   "file_extension": ".py",
   "mimetype": "text/x-python",
   "name": "python",
   "nbconvert_exporter": "python",
   "pygments_lexer": "ipython3",
   "version": "3.12.2"
  }
 },
 "nbformat": 4,
 "nbformat_minor": 2
}
