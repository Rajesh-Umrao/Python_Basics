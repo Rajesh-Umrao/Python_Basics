{
 "cells": [
  {
   "cell_type": "markdown",
   "id": "db222449",
   "metadata": {},
   "source": [
    "# Closures"
   ]
  },
  {
   "cell_type": "markdown",
   "id": "9748e242",
   "metadata": {},
   "source": [
    "<p>What is closures</p>\n",
    "<ul>\n",
    "    <li>A closure is a function object that remembers values from its enclosing scope even they are not present in the memory</li>\n",
    "    <li>In simple Terms: A closure allows the inner function to \"remember\" the environment in which it was created.</li>\n",
    "</ul>"
   ]
  },
  {
   "cell_type": "code",
   "execution_count": null,
   "id": "dbb9b16c",
   "metadata": {},
   "outputs": [
    {
     "name": "stdout",
     "output_type": "stream",
     "text": [
      "100\n",
      "<function outer.<locals>.inner at 0x000002702CC699E0>\n"
     ]
    }
   ],
   "source": [
    "def outer():\n",
    "    def inner():\n",
    "        x=100\n",
    "        return x \n",
    "    return inner\n",
    "func =outer()\n",
    "print(func())\n",
    "\n",
    "#Checking \n",
    "print(func) #expect to return inner func: <function outer.<locals>.inner at 0x000002702CE04C20>"
   ]
  }
 ],
 "metadata": {
  "kernelspec": {
   "display_name": "Python 3",
   "language": "python",
   "name": "python3"
  },
  "language_info": {
   "codemirror_mode": {
    "name": "ipython",
    "version": 3
   },
   "file_extension": ".py",
   "mimetype": "text/x-python",
   "name": "python",
   "nbconvert_exporter": "python",
   "pygments_lexer": "ipython3",
   "version": "3.12.2"
  }
 },
 "nbformat": 4,
 "nbformat_minor": 5
}
