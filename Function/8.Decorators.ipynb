{
 "cells": [
  {
   "cell_type": "markdown",
   "id": "7601d589",
   "metadata": {},
   "source": [
    "# Decorators"
   ]
  },
  {
   "cell_type": "markdown",
   "id": "69cb3cc2",
   "metadata": {},
   "source": [
    "<p>What is Decorators</p>\n",
    "<ul>\n",
    "    <li>A decorator is a function that takes another function as an input/argument, adds some functionality, and returns a new function — without modifying the original function's source code</li>\n",
    "</ul>"
   ]
  },
  {
   "cell_type": "markdown",
   "id": "e42f7cc2",
   "metadata": {},
   "source": [
    "#### Creating Your First Decorator:"
   ]
  },
  {
   "cell_type": "markdown",
   "id": "ad8d6770",
   "metadata": {},
   "source": [
    "<ul>\n",
    "    <li>QUS GOAL: You have a function that prints \"hello\" twice,but you want to enhance it to print \"hello\" three times, without modifying its original code.</li>\n",
    "</ul>"
   ]
  },
  {
   "cell_type": "code",
   "execution_count": 17,
   "id": "947e980f",
   "metadata": {},
   "outputs": [
    {
     "name": "stdout",
     "output_type": "stream",
     "text": [
      "hello\n",
      "hello\n",
      "hello\n"
     ]
    }
   ],
   "source": [
    "# --------------Method 1: Manual Application of Decorator-------------------\n",
    "def decor(func):\n",
    "    def inner():\n",
    "        func()          # Existing behavior\n",
    "        print('hello')  # Added behavior\n",
    "    return inner\n",
    "\n",
    "def display():\n",
    "    print('hello')\n",
    "    print('hello')\n",
    "\n",
    "# Manually apply decorator\n",
    "modified_func = decor(display)\n",
    "modified_func()\n"
   ]
  },
  {
   "cell_type": "code",
   "execution_count": 19,
   "id": "4b6bc1a3",
   "metadata": {},
   "outputs": [
    {
     "name": "stdout",
     "output_type": "stream",
     "text": [
      "hello\n",
      "hello\n",
      "hello\n"
     ]
    }
   ],
   "source": [
    "#------------Method-2: Decorator Syntax with @decor ---------------------\n",
    "def decor(func):\n",
    "    def inner():\n",
    "        func()          #Existing behavior \n",
    "        print('hello')  #added behavior \n",
    "    return inner\n",
    "\n",
    "@decor          #write this above the original func: this is alternative of modified_func = decor(display)\n",
    "def display():\n",
    "    print('hello')\n",
    "    print('hello')\n",
    "\n",
    "display()\n"
   ]
  },
  {
   "cell_type": "markdown",
   "id": "1b51c97e",
   "metadata": {},
   "source": [
    "#### Multiple Decorators on one function "
   ]
  },
  {
   "cell_type": "markdown",
   "id": "dcc465ed",
   "metadata": {},
   "source": [
    "<ul>\n",
    "    <li>Goal: Suppose The function is returning full name after taking the first name and sir name from user  <ul>\n",
    "        <li>1st you want to convert it into upper case</li>\n",
    "        <li>Then you want a list of First name and Sir name by spliting the function</li>\n",
    "    </ul>\n",
    "    </li>\n",
    "</ul>"
   ]
  },
  {
   "cell_type": "code",
   "execution_count": null,
   "id": "17706559",
   "metadata": {},
   "outputs": [
    {
     "name": "stdout",
     "output_type": "stream",
     "text": [
      "['RAJESH', 'UMRAO']\n"
     ]
    }
   ],
   "source": [
    "# --------------Method 1: Manual Application of Decorator-------------------\n",
    "def decor1(func):\n",
    "    def inner():\n",
    "        return func().upper()\n",
    "    return inner \n",
    "\n",
    "def decor2(func):\n",
    "    def inner():\n",
    "        return func().split()\n",
    "    return inner \n",
    "\n",
    "def get_name():\n",
    "    first_name=input('Enter First Name:')\n",
    "    sir_name=input('Enter Sir Name:')\n",
    "    full_name= first_name + \" \" + sir_name\n",
    "    return full_name\n",
    "\n",
    "modified_name=decor2(decor1(get_name))\n",
    "print(modified_name())\n",
    "\n"
   ]
  },
  {
   "cell_type": "code",
   "execution_count": null,
   "id": "74f771d5",
   "metadata": {},
   "outputs": [],
   "source": [
    "#------------Method-2: Decorator Syntax with @decor ---------------------\\\n",
    "def decor1(func):\n",
    "    def inner():\n",
    "        return func().upper()\n",
    "    return inner \n",
    "\n",
    "def decor2(func):\n",
    "    def inner():\n",
    "        return func().split()\n",
    "    return inner \n",
    "@decor2\n",
    "@decor1\n",
    "def get_name():\n",
    "    first_name=input('Enter First Name:')\n",
    "    sir_name=input('Enter Sir Name:')\n",
    "    full_name= first_name + \" \" + sir_name\n",
    "    return full_name\n",
    "\n",
    "get_name()\n"
   ]
  },
  {
   "cell_type": "markdown",
   "id": "6e79689a",
   "metadata": {},
   "source": [
    "#### One Decorators on Multiple functions "
   ]
  },
  {
   "cell_type": "markdown",
   "id": "6d750ec0",
   "metadata": {},
   "source": [
    "<ul>\n",
    "    <li>Goal: Suppose two function are used to calculate the division of numbers\n",
    "    <ul>\n",
    "        <li>1st function use two arguments and calculate the division</li>\n",
    "        <li>2nd function uses 3-arguments and calculate the division</li>\n",
    "    </ul>\n",
    "    <li>You need to make a decorator which should handle zero division error</li>\n",
    "    </li>\n",
    "</ul>"
   ]
  },
  {
   "cell_type": "code",
   "execution_count": null,
   "id": "f09c6bb9",
   "metadata": {},
   "outputs": [
    {
     "name": "stdout",
     "output_type": "stream",
     "text": [
      "5.0\n",
      "Cant be divide\n",
      "1.0\n",
      "Cant be divide\n",
      "0.0\n"
     ]
    }
   ],
   "source": [
    "def decor(func):\n",
    "    def inner(*args): #args is a tuple: (a, b, c, ...)\n",
    "        for num in args[1:]:\n",
    "            if num == 0:\n",
    "                return 'Cant be divide'\n",
    "        return func(*args)\n",
    "    return inner\n",
    "@decor\n",
    "def division1(a,b):\n",
    "    return a/b \n",
    "@decor\n",
    "def division2(a,b,c):\n",
    "    return a/b/c \n",
    "print(division1(10,2))\n",
    "print(division1(10,0))\n",
    "print(division2(10,2,5))\n",
    "print(division2(10,0,5))\n",
    "print(division2(0,10,5))"
   ]
  }
 ],
 "metadata": {
  "kernelspec": {
   "display_name": "Python 3",
   "language": "python",
   "name": "python3"
  },
  "language_info": {
   "codemirror_mode": {
    "name": "ipython",
    "version": 3
   },
   "file_extension": ".py",
   "mimetype": "text/x-python",
   "name": "python",
   "nbconvert_exporter": "python",
   "pygments_lexer": "ipython3",
   "version": "3.12.2"
  }
 },
 "nbformat": 4,
 "nbformat_minor": 5
}
