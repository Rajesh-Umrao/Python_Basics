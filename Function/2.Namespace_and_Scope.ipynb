{
 "cells": [
  {
   "cell_type": "markdown",
   "id": "0e8e89e6",
   "metadata": {},
   "source": [
    "# Namespace in python "
   ]
  },
  {
   "cell_type": "markdown",
   "id": "61aed73e",
   "metadata": {},
   "source": [
    "<h3>What is namespace in python</h3>\n",
    "    Layman's Definition: \n",
    "    <ul>\n",
    "        <li>A namespace is like a container or collection of names (identifiers) where each name is mapped to a value (object)</li></ul>\n",
    "    Techanical Definition:\n",
    "    <ul>\n",
    "        <li>Python implements namespaces as dictionaries where: Keys are the names/identifiers and values are the objects</li>\n",
    "    </ul>"
   ]
  },
  {
   "cell_type": "code",
   "execution_count": null,
   "id": "ca1e8ee9",
   "metadata": {},
   "outputs": [
    {
     "name": "stdout",
     "output_type": "stream",
     "text": [
      "{'__name__': '__main__', '__doc__': '\\nNote: all executions are function-scoped as we do not assume the code below executes in an isolated kernel environment.\\n', '__package__': None, '__loader__': None, '__spec__': None, '__builtin__': <module 'builtins' (built-in)>, '__builtins__': <module 'builtins' (built-in)>, '_ih': ['', \"a=5\\nb=4.2\\nc='raj'\\nd=lambda x,y:x+y\", \"a=5\\nb=4.2\\nc='raj'\\nd=lambda x,y:x+y\\n\\n#checking the python namespace \\nprint(global())\", \"a=5\\nb=4.2\\nc='raj'\\nd=lambda x,y:x+y\\n\\n#checking the python namespace \\nprint(globals())\"], '_oh': {2: 'ok'}, '_dh': [WindowsPath('e:/4.Data Analyst/Python_Basics/Function')], 'In': ['', \"a=5\\nb=4.2\\nc='raj'\\nd=lambda x,y:x+y\", \"a=5\\nb=4.2\\nc='raj'\\nd=lambda x,y:x+y\\n\\n#checking the python namespace \\nprint(global())\", \"a=5\\nb=4.2\\nc='raj'\\nd=lambda x,y:x+y\\n\\n#checking the python namespace \\nprint(globals())\"], 'Out': {2: 'ok'}, 'get_ipython': <bound method InteractiveShell.get_ipython of <ipykernel.zmqshell.ZMQInteractiveShell object at 0x000001871AFAD040>>, 'exit': <IPython.core.autocall.ZMQExitAutocall object at 0x000001871AFAD910>, 'quit': <IPython.core.autocall.ZMQExitAutocall object at 0x000001871AFAD910>, 'open': <function open at 0x0000018719164860>, '_': 'ok', '__': 'ok', '___': 'ok', '__vsc_ipynb_file__': 'e:\\\\4.Data Analyst\\\\Python_Basics\\\\Function\\\\2.Namespace_and_Scope.ipynb', '__DW_SCOPE__': {'output_cache': {}, 'output-40561197-a9cb-4068-aa47-f388635e36a6': {'enable_for_types': <function __DW_OUTPUT_FORMATTER__.<locals>.enable_formatter_for_types at 0x000001871B4ED440>, 'disable': <function __DW_OUTPUT_FORMATTER__.<locals>.disable_formatter at 0x000001871B4ED4E0>}}, '_i': \"a=5\\nb=4.2\\nc='raj'\\nd=lambda x,y:x+y\\n\\n#checking the python namespace \\nprint(global())\", '_ii': \"a=5\\nb=4.2\\nc='raj'\\nd=lambda x,y:x+y\", '_iii': '', '_i1': \"a=5\\nb=4.2\\nc='raj'\\nd=lambda x,y:x+y\", 'a': 5, 'b': 4.2, 'c': 'raj', 'd': <function <lambda> at 0x000001871B4EE8E0>, '_2': 'ok', '_i2': \"a=5\\nb=4.2\\nc='raj'\\nd=lambda x,y:x+y\\n\\n#checking the python namespace \\nprint(global())\", '_i3': \"a=5\\nb=4.2\\nc='raj'\\nd=lambda x,y:x+y\\n\\n#checking the python namespace \\nprint(globals())\"}\n"
     ]
    }
   ],
   "source": [
    "a=5\n",
    "b=4.2\n",
    "c='raj'\n",
    "d=lambda x,y:x+y\n",
    "#checking the python namespace \n",
    "print(globals())\n"
   ]
  },
  {
   "cell_type": "markdown",
   "id": "6dedcc90",
   "metadata": {},
   "source": [
    "# Types of Namespace"
   ]
  },
  {
   "cell_type": "markdown",
   "id": "3b148ae2",
   "metadata": {},
   "source": [
    "<p>Python has four main types of namespaces, created at different moments and with different lifetimes</p>\n",
    "    <ol>\n",
    "        <li>Built-in Namespace</li>\n",
    "        <li>Global Namespace</li>\n",
    "        <li>Local Namespace</li>\n",
    "        <li>Enclosing Namespace</li>\n",
    "    </ol>"
   ]
  },
  {
   "cell_type": "markdown",
   "id": "d05d5c77",
   "metadata": {},
   "source": [
    "<h3>1)Built-in Namespace</h3>\n",
    "    <ul>\n",
    "        <li>It contains the names of all of Python’s built-in objects.</li>\n",
    "        <li>This namespace is available while the Python interpreter is running. So, you can access the names that live in this namespace at any time in your code without explicitly importing them</li>\n",
    "        <li>It can be accessed using: dir() function </li>\n",
    "    </ul>"
   ]
  },
  {
   "cell_type": "code",
   "execution_count": 5,
   "id": "b15d0f43",
   "metadata": {},
   "outputs": [
    {
     "data": {
      "text/plain": [
       "['ArithmeticError',\n",
       " 'AssertionError',\n",
       " 'AttributeError',\n",
       " 'BaseException',\n",
       " 'BaseExceptionGroup',\n",
       " 'BlockingIOError',\n",
       " 'BrokenPipeError',\n",
       " 'BufferError',\n",
       " 'BytesWarning',\n",
       " 'ChildProcessError',\n",
       " 'ConnectionAbortedError',\n",
       " 'ConnectionError',\n",
       " 'ConnectionRefusedError',\n",
       " 'ConnectionResetError',\n",
       " 'DeprecationWarning',\n",
       " 'EOFError',\n",
       " 'Ellipsis',\n",
       " 'EncodingWarning',\n",
       " 'EnvironmentError',\n",
       " 'Exception',\n",
       " 'ExceptionGroup',\n",
       " 'False',\n",
       " 'FileExistsError',\n",
       " 'FileNotFoundError',\n",
       " 'FloatingPointError',\n",
       " 'FutureWarning',\n",
       " 'GeneratorExit',\n",
       " 'IOError',\n",
       " 'ImportError',\n",
       " 'ImportWarning',\n",
       " 'IndentationError',\n",
       " 'IndexError',\n",
       " 'InterruptedError',\n",
       " 'IsADirectoryError',\n",
       " 'KeyError',\n",
       " 'KeyboardInterrupt',\n",
       " 'LookupError',\n",
       " 'MemoryError',\n",
       " 'ModuleNotFoundError',\n",
       " 'NameError',\n",
       " 'None',\n",
       " 'NotADirectoryError',\n",
       " 'NotImplemented',\n",
       " 'NotImplementedError',\n",
       " 'OSError',\n",
       " 'OverflowError',\n",
       " 'PendingDeprecationWarning',\n",
       " 'PermissionError',\n",
       " 'ProcessLookupError',\n",
       " 'RecursionError',\n",
       " 'ReferenceError',\n",
       " 'ResourceWarning',\n",
       " 'RuntimeError',\n",
       " 'RuntimeWarning',\n",
       " 'StopAsyncIteration',\n",
       " 'StopIteration',\n",
       " 'SyntaxError',\n",
       " 'SyntaxWarning',\n",
       " 'SystemError',\n",
       " 'SystemExit',\n",
       " 'TabError',\n",
       " 'TimeoutError',\n",
       " 'True',\n",
       " 'TypeError',\n",
       " 'UnboundLocalError',\n",
       " 'UnicodeDecodeError',\n",
       " 'UnicodeEncodeError',\n",
       " 'UnicodeError',\n",
       " 'UnicodeTranslateError',\n",
       " 'UnicodeWarning',\n",
       " 'UserWarning',\n",
       " 'ValueError',\n",
       " 'Warning',\n",
       " 'WindowsError',\n",
       " 'ZeroDivisionError',\n",
       " '__IPYTHON__',\n",
       " '__build_class__',\n",
       " '__debug__',\n",
       " '__doc__',\n",
       " '__import__',\n",
       " '__loader__',\n",
       " '__name__',\n",
       " '__package__',\n",
       " '__spec__',\n",
       " 'abs',\n",
       " 'aiter',\n",
       " 'all',\n",
       " 'anext',\n",
       " 'any',\n",
       " 'ascii',\n",
       " 'bin',\n",
       " 'bool',\n",
       " 'breakpoint',\n",
       " 'bytearray',\n",
       " 'bytes',\n",
       " 'callable',\n",
       " 'chr',\n",
       " 'classmethod',\n",
       " 'compile',\n",
       " 'complex',\n",
       " 'copyright',\n",
       " 'credits',\n",
       " 'delattr',\n",
       " 'dict',\n",
       " 'dir',\n",
       " 'display',\n",
       " 'divmod',\n",
       " 'enumerate',\n",
       " 'eval',\n",
       " 'exec',\n",
       " 'execfile',\n",
       " 'filter',\n",
       " 'float',\n",
       " 'format',\n",
       " 'frozenset',\n",
       " 'get_ipython',\n",
       " 'getattr',\n",
       " 'globals',\n",
       " 'hasattr',\n",
       " 'hash',\n",
       " 'help',\n",
       " 'hex',\n",
       " 'id',\n",
       " 'input',\n",
       " 'int',\n",
       " 'isinstance',\n",
       " 'issubclass',\n",
       " 'iter',\n",
       " 'len',\n",
       " 'license',\n",
       " 'list',\n",
       " 'locals',\n",
       " 'map',\n",
       " 'max',\n",
       " 'memoryview',\n",
       " 'min',\n",
       " 'next',\n",
       " 'object',\n",
       " 'oct',\n",
       " 'open',\n",
       " 'ord',\n",
       " 'pow',\n",
       " 'print',\n",
       " 'property',\n",
       " 'range',\n",
       " 'repr',\n",
       " 'reversed',\n",
       " 'round',\n",
       " 'runfile',\n",
       " 'set',\n",
       " 'setattr',\n",
       " 'slice',\n",
       " 'sorted',\n",
       " 'staticmethod',\n",
       " 'str',\n",
       " 'sum',\n",
       " 'super',\n",
       " 'tuple',\n",
       " 'type',\n",
       " 'vars',\n",
       " 'zip']"
      ]
     },
     "execution_count": 5,
     "metadata": {},
     "output_type": "execute_result"
    }
   ],
   "source": [
    "dir(__builtins__)"
   ]
  },
  {
   "cell_type": "markdown",
   "id": "c1982135",
   "metadata": {},
   "source": [
    "<h3>2)Global Namespace</h3>\n",
    "    <ul>\n",
    "        <li>It contains the names defined at the module level. It is created when a module/script is first run and last until the program ends </li>\n",
    "        <li>Each module creates its own namespace, when any module is imported(via import) in current program</li>\n",
    "        <li>These different names are isolated. Hence same name that may exists in different module does not collide \n",
    "         </li>\n",
    "         <li>The global namespace is accessible throughout the module in which it is defined</li>\n",
    "    </ul>"
   ]
  },
  {
   "cell_type": "code",
   "execution_count": 10,
   "id": "ae8624e4",
   "metadata": {},
   "outputs": [
    {
     "name": "stdout",
     "output_type": "stream",
     "text": [
      "{'__name__': '__main__', '__doc__': '\\nNote: all executions are function-scoped as we do not assume the code below executes in an isolated kernel environment.\\n', '__package__': None, '__loader__': None, '__spec__': None, '__builtin__': <module 'builtins' (built-in)>, '__builtins__': <module 'builtins' (built-in)>, '_ih': ['', \"a=5\\nb=4.2\\nc='raj'\\nd=lambda x,y:x+y\", \"a=5\\nb=4.2\\nc='raj'\\nd=lambda x,y:x+y\\n\\n#checking the python namespace \\nprint(global())\", \"a=5\\nb=4.2\\nc='raj'\\nd=lambda x,y:x+y\\n\\n#checking the python namespace \\nprint(globals())\", 'dir(__builtins__)', 'dir(__builtins__)', \"a='hello'\\nprint(globals())  \", \"a='hello'\\ndir() \", \"a='hello'\\nprint(list(globals()))\", \"a='hello'\\nprint(globals())\", \"a='hello'\\nprint(globals())\"], '_oh': {2: 'ok', 4: ['ArithmeticError', 'AssertionError', 'AttributeError', 'BaseException', 'BaseExceptionGroup', 'BlockingIOError', 'BrokenPipeError', 'BufferError', 'BytesWarning', 'ChildProcessError', 'ConnectionAbortedError', 'ConnectionError', 'ConnectionRefusedError', 'ConnectionResetError', 'DeprecationWarning', 'EOFError', 'Ellipsis', 'EncodingWarning', 'EnvironmentError', 'Exception', 'ExceptionGroup', 'False', 'FileExistsError', 'FileNotFoundError', 'FloatingPointError', 'FutureWarning', 'GeneratorExit', 'IOError', 'ImportError', 'ImportWarning', 'IndentationError', 'IndexError', 'InterruptedError', 'IsADirectoryError', 'KeyError', 'KeyboardInterrupt', 'LookupError', 'MemoryError', 'ModuleNotFoundError', 'NameError', 'None', 'NotADirectoryError', 'NotImplemented', 'NotImplementedError', 'OSError', 'OverflowError', 'PendingDeprecationWarning', 'PermissionError', 'ProcessLookupError', 'RecursionError', 'ReferenceError', 'ResourceWarning', 'RuntimeError', 'RuntimeWarning', 'StopAsyncIteration', 'StopIteration', 'SyntaxError', 'SyntaxWarning', 'SystemError', 'SystemExit', 'TabError', 'TimeoutError', 'True', 'TypeError', 'UnboundLocalError', 'UnicodeDecodeError', 'UnicodeEncodeError', 'UnicodeError', 'UnicodeTranslateError', 'UnicodeWarning', 'UserWarning', 'ValueError', 'Warning', 'WindowsError', 'ZeroDivisionError', '__IPYTHON__', '__build_class__', '__debug__', '__doc__', '__import__', '__loader__', '__name__', '__package__', '__spec__', 'abs', 'aiter', 'all', 'anext', 'any', 'ascii', 'bin', 'bool', 'breakpoint', 'bytearray', 'bytes', 'callable', 'chr', 'classmethod', 'compile', 'complex', 'copyright', 'credits', 'delattr', 'dict', 'dir', 'display', 'divmod', 'enumerate', 'eval', 'exec', 'execfile', 'filter', 'float', 'format', 'frozenset', 'get_ipython', 'getattr', 'globals', 'hasattr', 'hash', 'help', 'hex', 'id', 'input', 'int', 'isinstance', 'issubclass', 'iter', 'len', 'license', 'list', 'locals', 'map', 'max', 'memoryview', 'min', 'next', 'object', 'oct', 'open', 'ord', 'pow', 'print', 'property', 'range', 'repr', 'reversed', 'round', 'runfile', 'set', 'setattr', 'slice', 'sorted', 'staticmethod', 'str', 'sum', 'super', 'tuple', 'type', 'vars', 'zip'], 5: ['ArithmeticError', 'AssertionError', 'AttributeError', 'BaseException', 'BaseExceptionGroup', 'BlockingIOError', 'BrokenPipeError', 'BufferError', 'BytesWarning', 'ChildProcessError', 'ConnectionAbortedError', 'ConnectionError', 'ConnectionRefusedError', 'ConnectionResetError', 'DeprecationWarning', 'EOFError', 'Ellipsis', 'EncodingWarning', 'EnvironmentError', 'Exception', 'ExceptionGroup', 'False', 'FileExistsError', 'FileNotFoundError', 'FloatingPointError', 'FutureWarning', 'GeneratorExit', 'IOError', 'ImportError', 'ImportWarning', 'IndentationError', 'IndexError', 'InterruptedError', 'IsADirectoryError', 'KeyError', 'KeyboardInterrupt', 'LookupError', 'MemoryError', 'ModuleNotFoundError', 'NameError', 'None', 'NotADirectoryError', 'NotImplemented', 'NotImplementedError', 'OSError', 'OverflowError', 'PendingDeprecationWarning', 'PermissionError', 'ProcessLookupError', 'RecursionError', 'ReferenceError', 'ResourceWarning', 'RuntimeError', 'RuntimeWarning', 'StopAsyncIteration', 'StopIteration', 'SyntaxError', 'SyntaxWarning', 'SystemError', 'SystemExit', 'TabError', 'TimeoutError', 'True', 'TypeError', 'UnboundLocalError', 'UnicodeDecodeError', 'UnicodeEncodeError', 'UnicodeError', 'UnicodeTranslateError', 'UnicodeWarning', 'UserWarning', 'ValueError', 'Warning', 'WindowsError', 'ZeroDivisionError', '__IPYTHON__', '__build_class__', '__debug__', '__doc__', '__import__', '__loader__', '__name__', '__package__', '__spec__', 'abs', 'aiter', 'all', 'anext', 'any', 'ascii', 'bin', 'bool', 'breakpoint', 'bytearray', 'bytes', 'callable', 'chr', 'classmethod', 'compile', 'complex', 'copyright', 'credits', 'delattr', 'dict', 'dir', 'display', 'divmod', 'enumerate', 'eval', 'exec', 'execfile', 'filter', 'float', 'format', 'frozenset', 'get_ipython', 'getattr', 'globals', 'hasattr', 'hash', 'help', 'hex', 'id', 'input', 'int', 'isinstance', 'issubclass', 'iter', 'len', 'license', 'list', 'locals', 'map', 'max', 'memoryview', 'min', 'next', 'object', 'oct', 'open', 'ord', 'pow', 'print', 'property', 'range', 'repr', 'reversed', 'round', 'runfile', 'set', 'setattr', 'slice', 'sorted', 'staticmethod', 'str', 'sum', 'super', 'tuple', 'type', 'vars', 'zip'], 6: 'ok', 7: ['In', 'Out', '_', '_2', '_4', '_5', '_6', '_7', '__', '__DW_SCOPE__', '___', '__builtin__', '__builtins__', '__doc__', '__loader__', '__name__', '__package__', '__spec__', '__vsc_ipynb_file__', '_dh', '_i', '_i1', '_i2', '_i3', '_i4', '_i5', '_i6', '_i7', '_ih', '_ii', '_iii', '_oh', 'a', 'b', 'c', 'd', 'exit', 'get_ipython', 'open', 'quit'], 8: 'ok'}, '_dh': [WindowsPath('e:/4.Data Analyst/Python_Basics/Function')], 'In': ['', \"a=5\\nb=4.2\\nc='raj'\\nd=lambda x,y:x+y\", \"a=5\\nb=4.2\\nc='raj'\\nd=lambda x,y:x+y\\n\\n#checking the python namespace \\nprint(global())\", \"a=5\\nb=4.2\\nc='raj'\\nd=lambda x,y:x+y\\n\\n#checking the python namespace \\nprint(globals())\", 'dir(__builtins__)', 'dir(__builtins__)', \"a='hello'\\nprint(globals())  \", \"a='hello'\\ndir() \", \"a='hello'\\nprint(list(globals()))\", \"a='hello'\\nprint(globals())\", \"a='hello'\\nprint(globals())\"], 'Out': {2: 'ok', 4: ['ArithmeticError', 'AssertionError', 'AttributeError', 'BaseException', 'BaseExceptionGroup', 'BlockingIOError', 'BrokenPipeError', 'BufferError', 'BytesWarning', 'ChildProcessError', 'ConnectionAbortedError', 'ConnectionError', 'ConnectionRefusedError', 'ConnectionResetError', 'DeprecationWarning', 'EOFError', 'Ellipsis', 'EncodingWarning', 'EnvironmentError', 'Exception', 'ExceptionGroup', 'False', 'FileExistsError', 'FileNotFoundError', 'FloatingPointError', 'FutureWarning', 'GeneratorExit', 'IOError', 'ImportError', 'ImportWarning', 'IndentationError', 'IndexError', 'InterruptedError', 'IsADirectoryError', 'KeyError', 'KeyboardInterrupt', 'LookupError', 'MemoryError', 'ModuleNotFoundError', 'NameError', 'None', 'NotADirectoryError', 'NotImplemented', 'NotImplementedError', 'OSError', 'OverflowError', 'PendingDeprecationWarning', 'PermissionError', 'ProcessLookupError', 'RecursionError', 'ReferenceError', 'ResourceWarning', 'RuntimeError', 'RuntimeWarning', 'StopAsyncIteration', 'StopIteration', 'SyntaxError', 'SyntaxWarning', 'SystemError', 'SystemExit', 'TabError', 'TimeoutError', 'True', 'TypeError', 'UnboundLocalError', 'UnicodeDecodeError', 'UnicodeEncodeError', 'UnicodeError', 'UnicodeTranslateError', 'UnicodeWarning', 'UserWarning', 'ValueError', 'Warning', 'WindowsError', 'ZeroDivisionError', '__IPYTHON__', '__build_class__', '__debug__', '__doc__', '__import__', '__loader__', '__name__', '__package__', '__spec__', 'abs', 'aiter', 'all', 'anext', 'any', 'ascii', 'bin', 'bool', 'breakpoint', 'bytearray', 'bytes', 'callable', 'chr', 'classmethod', 'compile', 'complex', 'copyright', 'credits', 'delattr', 'dict', 'dir', 'display', 'divmod', 'enumerate', 'eval', 'exec', 'execfile', 'filter', 'float', 'format', 'frozenset', 'get_ipython', 'getattr', 'globals', 'hasattr', 'hash', 'help', 'hex', 'id', 'input', 'int', 'isinstance', 'issubclass', 'iter', 'len', 'license', 'list', 'locals', 'map', 'max', 'memoryview', 'min', 'next', 'object', 'oct', 'open', 'ord', 'pow', 'print', 'property', 'range', 'repr', 'reversed', 'round', 'runfile', 'set', 'setattr', 'slice', 'sorted', 'staticmethod', 'str', 'sum', 'super', 'tuple', 'type', 'vars', 'zip'], 5: ['ArithmeticError', 'AssertionError', 'AttributeError', 'BaseException', 'BaseExceptionGroup', 'BlockingIOError', 'BrokenPipeError', 'BufferError', 'BytesWarning', 'ChildProcessError', 'ConnectionAbortedError', 'ConnectionError', 'ConnectionRefusedError', 'ConnectionResetError', 'DeprecationWarning', 'EOFError', 'Ellipsis', 'EncodingWarning', 'EnvironmentError', 'Exception', 'ExceptionGroup', 'False', 'FileExistsError', 'FileNotFoundError', 'FloatingPointError', 'FutureWarning', 'GeneratorExit', 'IOError', 'ImportError', 'ImportWarning', 'IndentationError', 'IndexError', 'InterruptedError', 'IsADirectoryError', 'KeyError', 'KeyboardInterrupt', 'LookupError', 'MemoryError', 'ModuleNotFoundError', 'NameError', 'None', 'NotADirectoryError', 'NotImplemented', 'NotImplementedError', 'OSError', 'OverflowError', 'PendingDeprecationWarning', 'PermissionError', 'ProcessLookupError', 'RecursionError', 'ReferenceError', 'ResourceWarning', 'RuntimeError', 'RuntimeWarning', 'StopAsyncIteration', 'StopIteration', 'SyntaxError', 'SyntaxWarning', 'SystemError', 'SystemExit', 'TabError', 'TimeoutError', 'True', 'TypeError', 'UnboundLocalError', 'UnicodeDecodeError', 'UnicodeEncodeError', 'UnicodeError', 'UnicodeTranslateError', 'UnicodeWarning', 'UserWarning', 'ValueError', 'Warning', 'WindowsError', 'ZeroDivisionError', '__IPYTHON__', '__build_class__', '__debug__', '__doc__', '__import__', '__loader__', '__name__', '__package__', '__spec__', 'abs', 'aiter', 'all', 'anext', 'any', 'ascii', 'bin', 'bool', 'breakpoint', 'bytearray', 'bytes', 'callable', 'chr', 'classmethod', 'compile', 'complex', 'copyright', 'credits', 'delattr', 'dict', 'dir', 'display', 'divmod', 'enumerate', 'eval', 'exec', 'execfile', 'filter', 'float', 'format', 'frozenset', 'get_ipython', 'getattr', 'globals', 'hasattr', 'hash', 'help', 'hex', 'id', 'input', 'int', 'isinstance', 'issubclass', 'iter', 'len', 'license', 'list', 'locals', 'map', 'max', 'memoryview', 'min', 'next', 'object', 'oct', 'open', 'ord', 'pow', 'print', 'property', 'range', 'repr', 'reversed', 'round', 'runfile', 'set', 'setattr', 'slice', 'sorted', 'staticmethod', 'str', 'sum', 'super', 'tuple', 'type', 'vars', 'zip'], 6: 'ok', 7: ['In', 'Out', '_', '_2', '_4', '_5', '_6', '_7', '__', '__DW_SCOPE__', '___', '__builtin__', '__builtins__', '__doc__', '__loader__', '__name__', '__package__', '__spec__', '__vsc_ipynb_file__', '_dh', '_i', '_i1', '_i2', '_i3', '_i4', '_i5', '_i6', '_i7', '_ih', '_ii', '_iii', '_oh', 'a', 'b', 'c', 'd', 'exit', 'get_ipython', 'open', 'quit'], 8: 'ok'}, 'get_ipython': <bound method InteractiveShell.get_ipython of <ipykernel.zmqshell.ZMQInteractiveShell object at 0x000001871AFAD040>>, 'exit': <IPython.core.autocall.ZMQExitAutocall object at 0x000001871AFAD910>, 'quit': <IPython.core.autocall.ZMQExitAutocall object at 0x000001871AFAD910>, 'open': <function open at 0x0000018719164860>, '_': 'ok', '__': 'ok', '___': 'ok', '__vsc_ipynb_file__': 'e:\\\\4.Data Analyst\\\\Python_Basics\\\\Function\\\\2.Namespace_and_Scope.ipynb', '__DW_SCOPE__': {'output_cache': {}, 'output-40561197-a9cb-4068-aa47-f388635e36a6': {'enable_for_types': <function __DW_OUTPUT_FORMATTER__.<locals>.enable_formatter_for_types at 0x000001871B4ED440>, 'disable': <function __DW_OUTPUT_FORMATTER__.<locals>.disable_formatter at 0x000001871B4ED4E0>}}, '_i': \"a='hello'\\nprint(globals())\", '_ii': \"a='hello'\\nprint(list(globals()))\", '_iii': \"a='hello'\\ndir() \", '_i1': \"a=5\\nb=4.2\\nc='raj'\\nd=lambda x,y:x+y\", 'a': 'hello', 'b': 4.2, 'c': 'raj', 'd': <function <lambda> at 0x000001871B4EE8E0>, '_2': 'ok', '_i2': \"a=5\\nb=4.2\\nc='raj'\\nd=lambda x,y:x+y\\n\\n#checking the python namespace \\nprint(global())\", '_i3': \"a=5\\nb=4.2\\nc='raj'\\nd=lambda x,y:x+y\\n\\n#checking the python namespace \\nprint(globals())\", '_i4': 'dir(__builtins__)', '_4': ['ArithmeticError', 'AssertionError', 'AttributeError', 'BaseException', 'BaseExceptionGroup', 'BlockingIOError', 'BrokenPipeError', 'BufferError', 'BytesWarning', 'ChildProcessError', 'ConnectionAbortedError', 'ConnectionError', 'ConnectionRefusedError', 'ConnectionResetError', 'DeprecationWarning', 'EOFError', 'Ellipsis', 'EncodingWarning', 'EnvironmentError', 'Exception', 'ExceptionGroup', 'False', 'FileExistsError', 'FileNotFoundError', 'FloatingPointError', 'FutureWarning', 'GeneratorExit', 'IOError', 'ImportError', 'ImportWarning', 'IndentationError', 'IndexError', 'InterruptedError', 'IsADirectoryError', 'KeyError', 'KeyboardInterrupt', 'LookupError', 'MemoryError', 'ModuleNotFoundError', 'NameError', 'None', 'NotADirectoryError', 'NotImplemented', 'NotImplementedError', 'OSError', 'OverflowError', 'PendingDeprecationWarning', 'PermissionError', 'ProcessLookupError', 'RecursionError', 'ReferenceError', 'ResourceWarning', 'RuntimeError', 'RuntimeWarning', 'StopAsyncIteration', 'StopIteration', 'SyntaxError', 'SyntaxWarning', 'SystemError', 'SystemExit', 'TabError', 'TimeoutError', 'True', 'TypeError', 'UnboundLocalError', 'UnicodeDecodeError', 'UnicodeEncodeError', 'UnicodeError', 'UnicodeTranslateError', 'UnicodeWarning', 'UserWarning', 'ValueError', 'Warning', 'WindowsError', 'ZeroDivisionError', '__IPYTHON__', '__build_class__', '__debug__', '__doc__', '__import__', '__loader__', '__name__', '__package__', '__spec__', 'abs', 'aiter', 'all', 'anext', 'any', 'ascii', 'bin', 'bool', 'breakpoint', 'bytearray', 'bytes', 'callable', 'chr', 'classmethod', 'compile', 'complex', 'copyright', 'credits', 'delattr', 'dict', 'dir', 'display', 'divmod', 'enumerate', 'eval', 'exec', 'execfile', 'filter', 'float', 'format', 'frozenset', 'get_ipython', 'getattr', 'globals', 'hasattr', 'hash', 'help', 'hex', 'id', 'input', 'int', 'isinstance', 'issubclass', 'iter', 'len', 'license', 'list', 'locals', 'map', 'max', 'memoryview', 'min', 'next', 'object', 'oct', 'open', 'ord', 'pow', 'print', 'property', 'range', 'repr', 'reversed', 'round', 'runfile', 'set', 'setattr', 'slice', 'sorted', 'staticmethod', 'str', 'sum', 'super', 'tuple', 'type', 'vars', 'zip'], '_i5': 'dir(__builtins__)', '_5': ['ArithmeticError', 'AssertionError', 'AttributeError', 'BaseException', 'BaseExceptionGroup', 'BlockingIOError', 'BrokenPipeError', 'BufferError', 'BytesWarning', 'ChildProcessError', 'ConnectionAbortedError', 'ConnectionError', 'ConnectionRefusedError', 'ConnectionResetError', 'DeprecationWarning', 'EOFError', 'Ellipsis', 'EncodingWarning', 'EnvironmentError', 'Exception', 'ExceptionGroup', 'False', 'FileExistsError', 'FileNotFoundError', 'FloatingPointError', 'FutureWarning', 'GeneratorExit', 'IOError', 'ImportError', 'ImportWarning', 'IndentationError', 'IndexError', 'InterruptedError', 'IsADirectoryError', 'KeyError', 'KeyboardInterrupt', 'LookupError', 'MemoryError', 'ModuleNotFoundError', 'NameError', 'None', 'NotADirectoryError', 'NotImplemented', 'NotImplementedError', 'OSError', 'OverflowError', 'PendingDeprecationWarning', 'PermissionError', 'ProcessLookupError', 'RecursionError', 'ReferenceError', 'ResourceWarning', 'RuntimeError', 'RuntimeWarning', 'StopAsyncIteration', 'StopIteration', 'SyntaxError', 'SyntaxWarning', 'SystemError', 'SystemExit', 'TabError', 'TimeoutError', 'True', 'TypeError', 'UnboundLocalError', 'UnicodeDecodeError', 'UnicodeEncodeError', 'UnicodeError', 'UnicodeTranslateError', 'UnicodeWarning', 'UserWarning', 'ValueError', 'Warning', 'WindowsError', 'ZeroDivisionError', '__IPYTHON__', '__build_class__', '__debug__', '__doc__', '__import__', '__loader__', '__name__', '__package__', '__spec__', 'abs', 'aiter', 'all', 'anext', 'any', 'ascii', 'bin', 'bool', 'breakpoint', 'bytearray', 'bytes', 'callable', 'chr', 'classmethod', 'compile', 'complex', 'copyright', 'credits', 'delattr', 'dict', 'dir', 'display', 'divmod', 'enumerate', 'eval', 'exec', 'execfile', 'filter', 'float', 'format', 'frozenset', 'get_ipython', 'getattr', 'globals', 'hasattr', 'hash', 'help', 'hex', 'id', 'input', 'int', 'isinstance', 'issubclass', 'iter', 'len', 'license', 'list', 'locals', 'map', 'max', 'memoryview', 'min', 'next', 'object', 'oct', 'open', 'ord', 'pow', 'print', 'property', 'range', 'repr', 'reversed', 'round', 'runfile', 'set', 'setattr', 'slice', 'sorted', 'staticmethod', 'str', 'sum', 'super', 'tuple', 'type', 'vars', 'zip'], '_6': 'ok', '_i6': \"a='hello'\\nprint(globals())  \", '_7': ['In', 'Out', '_', '_2', '_4', '_5', '_6', '_7', '__', '__DW_SCOPE__', '___', '__builtin__', '__builtins__', '__doc__', '__loader__', '__name__', '__package__', '__spec__', '__vsc_ipynb_file__', '_dh', '_i', '_i1', '_i2', '_i3', '_i4', '_i5', '_i6', '_i7', '_ih', '_ii', '_iii', '_oh', 'a', 'b', 'c', 'd', 'exit', 'get_ipython', 'open', 'quit'], '_i7': \"a='hello'\\ndir() \", '_8': 'ok', '_i8': \"a='hello'\\nprint(list(globals()))\", '_i9': \"a='hello'\\nprint(globals())\", '_i10': \"a='hello'\\nprint(globals())\"}\n"
     ]
    }
   ],
   "source": [
    "a='hello'\n",
    "print(globals())"
   ]
  },
  {
   "cell_type": "markdown",
   "id": "417b02d2",
   "metadata": {},
   "source": [
    "<h3>3)local Namespace</h3>\n",
    "    <ul>\n",
    "        <li>The Python interpreter creates a new and dedicated namespace whenever you call a function</li>\n",
    "        <li>This namespace is local to the function and exists only until the function returns:</li>\n",
    "    </ul>"
   ]
  },
  {
   "cell_type": "code",
   "execution_count": 23,
   "id": "c1fdc176",
   "metadata": {},
   "outputs": [
    {
     "name": "stdout",
     "output_type": "stream",
     "text": [
      "global namespace: ['In', 'Out', '_', '_11', '_14', '_2', '_4', '_5', '_6', '_7', '_8', '__', '__DW_SCOPE__', '___', '__builtin__', '__builtins__', '__doc__', '__loader__', '__name__', '__package__', '__spec__', '__vsc_ipynb_file__', '_dh', '_i', '_i1', '_i10', '_i11', '_i12', '_i13', '_i14', '_i15', '_i16', '_i17', '_i18', '_i19', '_i2', '_i20', '_i21', '_i22', '_i23', '_i3', '_i4', '_i5', '_i6', '_i7', '_i8', '_i9', '_ih', '_ii', '_iii', '_oh', 'a', 'b', 'c', 'd', 'exit', 'func', 'func1', 'func2', 'get_ipython', 'open', 'quit']\n",
      "local namespace1: ['a']\n",
      "local namespace2: ['a']\n"
     ]
    }
   ],
   "source": [
    "a=10    #global variable \n",
    "def func1():\n",
    "    a=20    #local variable \n",
    "    print('local namespace1:',dir())\n",
    "def func2():\n",
    "    a=30   #local variable\n",
    "    print('local namespace2:',dir())\n",
    "print('global namespace:',dir())\n",
    "func1()\n",
    "func2()"
   ]
  },
  {
   "cell_type": "markdown",
   "id": "6c641bad",
   "metadata": {},
   "source": [
    "<h3>4)Enclosing Namespace</h3>\n",
    "    <ul>\n",
    "        <li>It is created for nested functions (function inside a function)</li>\n",
    "        <li>The outer function’s local variables form the enclosing namespace for the inner function</li>\n",
    "    </ul>"
   ]
  },
  {
   "cell_type": "code",
   "execution_count": 22,
   "id": "ca0aba8d",
   "metadata": {},
   "outputs": [
    {
     "name": "stdout",
     "output_type": "stream",
     "text": [
      "local namespace: ['a']\n",
      "Enclosing namespace: ['b']\n"
     ]
    }
   ],
   "source": [
    "a=10    #global variable \n",
    "def func():\n",
    "    a=20    #local variable \n",
    "    print('local namespace:',dir())\n",
    "    def inner():\n",
    "        b=100   #local variable\n",
    "        print('Enclosing namespace:',dir())\n",
    "    inner()\n",
    "func()"
   ]
  },
  {
   "cell_type": "markdown",
   "id": "d15f7b4d",
   "metadata": {},
   "source": [
    "# Scopes of Names"
   ]
  },
  {
   "cell_type": "markdown",
   "id": "b301c767",
   "metadata": {},
   "source": [
    "<h3>Understanding the Scope of Names why do we need scopes</h3>\n",
    "    <ul>\n",
    "        <li>Python allows the same name to exist in multiple namespaces (e.g. inside func, classes, modules)\n",
    "        <li>That raises a question. Suppose you refer to the name x in your code, and x exists in several namespaces. Then How does Python know which one you mean each time?</li>\n",
    "        <li>The answer lies in the concept of scope</li>\n",
    "    </ul>"
   ]
  },
  {
   "cell_type": "code",
   "execution_count": 27,
   "id": "4a466ad4",
   "metadata": {},
   "outputs": [
    {
     "name": "stdout",
     "output_type": "stream",
     "text": [
      "5\n",
      "10\n"
     ]
    }
   ],
   "source": [
    "x = 10  # Global scope\n",
    "def func():\n",
    "    x = 5  # Local scope\n",
    "    print(x)\n",
    "func()     # Output: 5\n",
    "print(x)      # Output: 10\n",
    "#x exists in both global and local scopes.\n",
    "# Python uses the local x inside the function and global x outside it."
   ]
  },
  {
   "cell_type": "markdown",
   "id": "d0fe59b1",
   "metadata": {},
   "source": [
    "##### LEGB Rule:  Local → Enclosing → Global → Built-in"
   ]
  },
  {
   "cell_type": "code",
   "execution_count": 30,
   "id": "b99321c9",
   "metadata": {},
   "outputs": [
    {
     "name": "stdout",
     "output_type": "stream",
     "text": [
      "Global variable: 10\n",
      "Non-local variable: 20\n",
      "Local variable: 30\n"
     ]
    }
   ],
   "source": [
    "x=10\n",
    "def outer():\n",
    "    x=20\n",
    "    print('Non-local variable:', x)\n",
    "    def inner():\n",
    "        x=30\n",
    "        print('Local variable:', x)\n",
    "    inner()\n",
    "print('Global variable:', x)\n",
    "outer()\n"
   ]
  },
  {
   "cell_type": "markdown",
   "id": "e7f9721a",
   "metadata": {},
   "source": [
    "# Managing the Namescopes Dictionaries "
   ]
  },
  {
   "cell_type": "markdown",
   "id": "346cd57a",
   "metadata": {},
   "source": [
    "<ul>\n",
    "        <li>Python provides two built-in functions, globals() and locals(), that allow you to access the global and local namespace dictionaries</li>\n",
    "        <li>These functions give you direct access to the content of both namespaces, which are implemented as dictionaries</li>\n",
    "    </ul>"
   ]
  },
  {
   "cell_type": "markdown",
   "id": "381abdf4",
   "metadata": {},
   "source": [
    "### locals() function "
   ]
  },
  {
   "cell_type": "code",
   "execution_count": 36,
   "id": "1f7bd541",
   "metadata": {},
   "outputs": [
    {
     "name": "stdout",
     "output_type": "stream",
     "text": [
      "{'a': 10, 'b': 20}\n"
     ]
    }
   ],
   "source": [
    "def func():\n",
    "    a = 10\n",
    "    b = 20\n",
    "    print(locals())\n",
    "func()"
   ]
  },
  {
   "cell_type": "markdown",
   "id": "dcd4a2ae",
   "metadata": {},
   "source": [
    "### globals() function"
   ]
  },
  {
   "cell_type": "code",
   "execution_count": 37,
   "id": "8af34bd4",
   "metadata": {},
   "outputs": [
    {
     "name": "stdout",
     "output_type": "stream",
     "text": [
      "42\n"
     ]
    }
   ],
   "source": [
    "x = 42\n",
    "def greet():\n",
    "    print(\"Hello!\")\n",
    "print(globals()['x'])      # Output: 42"
   ]
  },
  {
   "cell_type": "markdown",
   "id": "cb867347",
   "metadata": {},
   "source": [
    "## Modifying Variables From a Different Namespace"
   ]
  },
  {
   "cell_type": "markdown",
   "id": "8e8ed787",
   "metadata": {},
   "source": [
    "#### 1) Modifying Global Variables from Inside a Function"
   ]
  },
  {
   "cell_type": "code",
   "execution_count": 38,
   "id": "2d7ce395",
   "metadata": {},
   "outputs": [
    {
     "name": "stdout",
     "output_type": "stream",
     "text": [
      "anbound local error\n",
      "a variable before modification:10\n",
      "----------------------------------------\n",
      "15\n",
      "a variable after modification:15\n"
     ]
    }
   ],
   "source": [
    "#Application: Example to be consider \n",
    "a=10 \n",
    "def display():\n",
    "    a=a+5\n",
    "    print(a)\n",
    "try: display()\n",
    "except: print('anbound local error')\n",
    "print(f'a variable before modification:{a}')\n",
    "\n",
    "#REASON of ERROR:\"cannot access local variable 'a' where it is not associated with a value\"\n",
    "print('-'*40)\n",
    "#SOLUTION \n",
    "a=10 \n",
    "def display():\n",
    "    global a\n",
    "    a=a+5\n",
    "    print(a)\n",
    "display()\n",
    "print(f'a variable after modification:{a}')"
   ]
  },
  {
   "cell_type": "code",
   "execution_count": 43,
   "id": "4fabe0aa",
   "metadata": {},
   "outputs": [
    {
     "name": "stdout",
     "output_type": "stream",
     "text": [
      "20\n"
     ]
    }
   ],
   "source": [
    "x = 10\n",
    "def change():\n",
    "    global x\n",
    "    x = 20\n",
    "change()\n",
    "print(x)  # Output: 20"
   ]
  },
  {
   "cell_type": "markdown",
   "id": "672756b4",
   "metadata": {},
   "source": [
    "#### 2) Modifying Enclosing Function’s Variable (Nonlocal Scope)"
   ]
  },
  {
   "cell_type": "code",
   "execution_count": 44,
   "id": "d0dda032",
   "metadata": {},
   "outputs": [
    {
     "name": "stdout",
     "output_type": "stream",
     "text": [
      "10\n"
     ]
    }
   ],
   "source": [
    "def outer():\n",
    "    x = 5\n",
    "    def inner():\n",
    "        nonlocal x\n",
    "        x = 10\n",
    "    inner()\n",
    "    print(x)\n",
    "outer()  # Output: 10"
   ]
  }
 ],
 "metadata": {
  "kernelspec": {
   "display_name": "Python 3",
   "language": "python",
   "name": "python3"
  },
  "language_info": {
   "codemirror_mode": {
    "name": "ipython",
    "version": 3
   },
   "file_extension": ".py",
   "mimetype": "text/x-python",
   "name": "python",
   "nbconvert_exporter": "python",
   "pygments_lexer": "ipython3",
   "version": "3.12.2"
  }
 },
 "nbformat": 4,
 "nbformat_minor": 5
}
