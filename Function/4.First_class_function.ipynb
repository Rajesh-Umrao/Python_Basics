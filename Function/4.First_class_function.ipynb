{
 "cells": [
  {
   "cell_type": "markdown",
   "id": "cae5a34b",
   "metadata": {},
   "source": [
    "<h3>What does “First-Class Function” mean?</h3>\n",
    "    <p>In programming, a language is said to have first-class functions if it treats functions as first-class citizens. This means that functions in such a language can be:</p>\n",
    "    <ol>\n",
    "      <li>assigned to a variable</li>\n",
    "      <li>passed as an argument to another function</li>\n",
    "      <li>returned from another function</li>\n",
    "      <li>stored in a data structure (like list/dict)</li>\n",
    "    </ol>\n",
    "      <p>In programming, a language is said to have first-class functions if it treats functions as first-class citizens. This means that functions in such a language can be:</p>"
   ]
  },
  {
   "cell_type": "code",
   "execution_count": 49,
   "id": "1ca72523",
   "metadata": {},
   "outputs": [
    {
     "name": "stdout",
     "output_type": "stream",
     "text": [
      "<function add at 0x0000022B92D722A0>\n",
      "5\n",
      "<function add at 0x0000022B92D722A0>\n",
      "<function add at 0x0000022B92D722A0>\n"
     ]
    }
   ],
   "source": [
    "#1)CAN BE ASSIGNED TO A VARIBALE \n",
    "def add(a, b):\n",
    "    return a + b\n",
    "\n",
    "x = add                                  #function object is assigned \n",
    "result = add(2,3)                        #function result is assisgned\n",
    "print(x)                                 #Prints the function object\n",
    "print(result)                            #print the function result \n",
    "\n",
    "\n",
    "# ------------now lets assign the function_object to another varibale---------\n",
    "y=x\n",
    "print(x)\n",
    "print(y)\n",
    "    #They both refer to the same function object\n",
    "    #This demonstrates that functions can be assigned to variables just like any other data type"
   ]
  },
  {
   "cell_type": "code",
   "execution_count": null,
   "id": "040d1e50",
   "metadata": {},
   "outputs": [
    {
     "name": "stdout",
     "output_type": "stream",
     "text": [
      "[2, 4, 6, 8, 10]\n"
     ]
    }
   ],
   "source": [
    "#2) PASSED AS AN ARGUMENTS TO ANOTHER FUNCTION \n",
    "    # creating new list of double with the old list \n",
    "list=[1,2,3,4,5]\n",
    "\n",
    "def double(n):\n",
    "    return n*2 \n",
    "\n",
    "def new_list(func, list):\n",
    "    result =[]\n",
    "    for i in list:\n",
    "        result.append(func(i))\n",
    "    return result \n",
    "\n",
    "x=new_list                     #function object is assigned \n",
    "y=(x(double, list))            #double func is passed as an argument func=double \n",
    "print(y)\n",
    "\n",
    "    #Note that when passing the function, we do not include parentheses(i.e., double instead of double())\n",
    "    # indicating that we are passing the function itself and not the result of calling the function"
   ]
  },
  {
   "cell_type": "code",
   "execution_count": null,
   "id": "1bedb96c",
   "metadata": {},
   "outputs": [
    {
     "name": "stdout",
     "output_type": "stream",
     "text": [
      "<function outer.<locals>.inner at 0x0000022B92D702C0>\n",
      "10\n",
      "15\n"
     ]
    }
   ],
   "source": [
    "#3) CAN BE RETURNED FROM ANOTHER FUNCTION\n",
    "def outer():\n",
    "    def inner():\n",
    "        return 'hello friends'\n",
    "    return inner                   \n",
    "fn=outer()                              #after call the  inner function is returned \n",
    "print(fn())                             #calling the inner function \n",
    "\n",
    "\n",
    "#----------------2nd Example--------\n",
    "def create_multiplier(factor):\n",
    "    \"\"\"Returns a function that multiplies its input by the given factor.\"\"\"\n",
    "    def multiplier(x):\n",
    "        return x * factor\n",
    "    return multiplier\n",
    "\n",
    "# Create specific multiplier functions\n",
    "double = create_multiplier(2)\n",
    "triple = create_multiplier(3)\n",
    "\n",
    "# Use the created functions\n",
    "print(double(5))  # Output: 10\n",
    "print(triple(5))  # Output: 15"
   ]
  },
  {
   "cell_type": "code",
   "execution_count": 29,
   "id": "fe639a16",
   "metadata": {},
   "outputs": [
    {
     "name": "stdout",
     "output_type": "stream",
     "text": [
      "5\n",
      "-1\n"
     ]
    }
   ],
   "source": [
    "# 4) CAN BE STORED IN THE DATA STRUCTURE like list/dict\n",
    "def add(x,y): return x+y\n",
    "def sub(x,y): return x-y\n",
    "ops =[add, sub] #stored in dict \n",
    "\n",
    "print(ops[0](2,3))\n",
    "print(ops[1](2,3))"
   ]
  },
  {
   "cell_type": "code",
   "execution_count": 48,
   "id": "faaf5f82",
   "metadata": {},
   "outputs": [
    {
     "name": "stdout",
     "output_type": "stream",
     "text": [
      "<class 'int'>\n"
     ]
    }
   ],
   "source": [
    "x=10 \n",
    "print(type(x))# <Int class> "
   ]
  }
 ],
 "metadata": {
  "kernelspec": {
   "display_name": "Python 3",
   "language": "python",
   "name": "python3"
  },
  "language_info": {
   "codemirror_mode": {
    "name": "ipython",
    "version": 3
   },
   "file_extension": ".py",
   "mimetype": "text/x-python",
   "name": "python",
   "nbconvert_exporter": "python",
   "pygments_lexer": "ipython3",
   "version": "3.12.2"
  }
 },
 "nbformat": 4,
 "nbformat_minor": 5
}
