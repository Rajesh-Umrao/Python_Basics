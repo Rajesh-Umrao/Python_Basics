{
 "cells": [
  {
   "cell_type": "markdown",
   "id": "ab19d62d",
   "metadata": {},
   "source": [
    "# 1) Why Functional Programming ?\n"
   ]
  },
  {
   "cell_type": "markdown",
   "id": "200cc09b",
   "metadata": {},
   "source": [
    "#### Advantages\n",
    "###### 1)  Reusability : Write once, use multiple times  \n",
    "###### 2)  Modularity: Break large programs into smaller, manageable pieces\n",
    "###### 3) Abstraction: Hide complex logic and make the program easier to understand.\n",
    "###### 4) Testing and Debugging: Function makes T&D easier (e.g. if there is problem in specific part we can test and debug that specific part no need to explore other part of code) \n"
   ]
  },
  {
   "cell_type": "markdown",
   "id": "1ad01056",
   "metadata": {},
   "source": [
    "# 2) Function Syntax/Statement \n",
    "\n",
    "##### Function has 3 main Components: 1st Definition | 2nd Function call | Return Statement "
   ]
  },
  {
   "cell_type": "code",
   "execution_count": 1,
   "id": "e6af213c",
   "metadata": {},
   "outputs": [
    {
     "name": "stdout",
     "output_type": "stream",
     "text": [
      "Addtioon of number: 9\n"
     ]
    }
   ],
   "source": [
    "#1)Function Definition : addition of two numbers \n",
    "def add(a,b):\n",
    "    print(f'Addtioon of number: {a+b}')\n",
    "\n",
    "#2) Function CALL\n",
    "add (5, 4) \n"
   ]
  },
  {
   "cell_type": "markdown",
   "id": "07bca8a5",
   "metadata": {},
   "source": [
    "##### 2.1) Python function is an OBJECT"
   ]
  },
  {
   "cell_type": "code",
   "execution_count": null,
   "id": "698737dc",
   "metadata": {},
   "outputs": [
    {
     "name": "stdout",
     "output_type": "stream",
     "text": [
      "<class 'function'>\n",
      "<function display at 0x000002255A8EF600>\n"
     ]
    }
   ],
   "source": [
    "def add(a, b):\n",
    "    print(f'addition of numbers: {a+b}')\n",
    "print(type(display))\n",
    "\n",
    "print(display) #shows memory location: which generally done for python object it means it is object  "
   ]
  },
  {
   "cell_type": "markdown",
   "id": "f4cc443f",
   "metadata": {},
   "source": [
    "##### 2.2) Alias can be used for function"
   ]
  },
  {
   "cell_type": "code",
   "execution_count": 17,
   "id": "0b7ef212",
   "metadata": {},
   "outputs": [
    {
     "name": "stdout",
     "output_type": "stream",
     "text": [
      "my name is: Rajesh\n",
      "my name is: Rajesh\n"
     ]
    }
   ],
   "source": [
    "def show(name):\n",
    "    print(f'my name is: {name}')\n",
    "\n",
    "#you can directly call or \n",
    "show('Rajesh')\n",
    "\n",
    "#assign the alias  to the function name \n",
    "x = show\n",
    "x('Rajesh') #call the function \n"
   ]
  },
  {
   "cell_type": "markdown",
   "id": "8cdb2bb4",
   "metadata": {},
   "source": [
    "# 3)Function Components "
   ]
  },
  {
   "cell_type": "markdown",
   "id": "0f1094a6",
   "metadata": {},
   "source": [
    "### 3.1) Parameters vs arguments"
   ]
  },
  {
   "cell_type": "code",
   "execution_count": 18,
   "id": "ba165516",
   "metadata": {},
   "outputs": [
    {
     "name": "stdout",
     "output_type": "stream",
     "text": [
      "diff is:-3\n"
     ]
    }
   ],
   "source": [
    "#1) Parameters:  Variable defined in a function definition\n",
    "#2) Arguments: Actual value passed to the function during function call\n",
    "\n",
    "def substraction (a,b):    #here a, b are parameters \n",
    "    print(f'diff is:{a-b}')\n",
    "substraction(10,13)     #Here 10, 13 are arguments "
   ]
  },
  {
   "cell_type": "markdown",
   "id": "64453345",
   "metadata": {},
   "source": [
    "##### Types of function based on parameters"
   ]
  },
  {
   "cell_type": "code",
   "execution_count": 20,
   "id": "20454fb8",
   "metadata": {},
   "outputs": [
    {
     "name": "stdout",
     "output_type": "stream",
     "text": [
      "diff is:-3\n",
      "wecome to the rajesh_data_ai\n",
      "Error\n"
     ]
    }
   ],
   "source": [
    "#Parameterized function: Variable are defined with int the function(like palce holders)\n",
    "def substraction (a,b):\n",
    "    print(f'diff is:{a-b}')\n",
    "\n",
    "substraction(10,13)\n",
    "#-----------------------------------------------------\n",
    "# NON-PARAMETERIZED FUNCTION: \n",
    "def welcome():\n",
    "    print('wecome to the rajesh_data_ai') \n",
    "welcome()\n",
    "#if you try to pass the parameter it will throw error\n",
    "try: welcome('rajesh')\n",
    "except:print('Error')"
   ]
  },
  {
   "cell_type": "markdown",
   "id": "b1dc6620",
   "metadata": {},
   "source": [
    "### 3.2) Arguments "
   ]
  },
  {
   "cell_type": "markdown",
   "id": "876ecdee",
   "metadata": {},
   "source": [
    "##### A) Positional Arguments "
   ]
  },
  {
   "cell_type": "code",
   "execution_count": 48,
   "id": "01377cdc",
   "metadata": {},
   "outputs": [
    {
     "name": "stdout",
     "output_type": "stream",
     "text": [
      "shiva has age 18\n",
      "23 has age shiva\n",
      "TypeError: info() takes 2 positional arguments but 3 were given\n",
      "TypeError: info() missing 1 required positional argument: age\n"
     ]
    }
   ],
   "source": [
    "#1) POSITIONAL ARGUMENTS\n",
    "\n",
    "def info (name, age):\n",
    "    print(f'{name} has age {age}')\n",
    "\n",
    "info('shiva', 18)  # order and the Nos of argument must be same as function parameters \n",
    "\n",
    "# WHAT IF ORDER IS NOT MAINTAINED during call\n",
    "def info (name, age):\n",
    "    print(f'{name} has age {age}')\n",
    "info(23, 'shiva')  # name get wrong result or error \n",
    "\n",
    "#WHAT IF NOs OF ARGUMENTS != NOs of PARAMETERS \n",
    "\n",
    "def info (name, age):\n",
    "    print(f'{name} has age {age}')\n",
    "\n",
    "#----Passing extra arguments than parameters \n",
    "try:info('shiva', 23, 'India')\n",
    "except: print('TypeError: info() takes 2 positional arguments but 3 were given')\n",
    "\n",
    "#-----Passing less arguments than parameters \n",
    "try:info('shiva')\n",
    "except: print('TypeError: info() missing 1 required positional argument: age')\n"
   ]
  },
  {
   "cell_type": "markdown",
   "id": "e810cf25",
   "metadata": {},
   "source": [
    "##### B) Keywords Arguments"
   ]
  },
  {
   "cell_type": "code",
   "execution_count": 55,
   "id": "97e93044",
   "metadata": {},
   "outputs": [
    {
     "name": "stdout",
     "output_type": "stream",
     "text": [
      "shiva has age 23\n",
      "shiva has age 23\n",
      "TypeError: info() takes 2 positional arguments but 3 were given\n",
      "TypeError: info() missing 1 required positional argument: age\n"
     ]
    }
   ],
   "source": [
    "def info (name, age):\n",
    "    print(f'{name} has age {age}')\n",
    "\n",
    "# Functional call \n",
    "info(name='shiva', age=23)\n",
    "\n",
    "# Functional call: CHANGE THE ORDER  \n",
    "info(age=23, name ='shiva') # here order is not imp\n",
    "\n",
    "# NOTE: PASSING EXTRA OR LESS ARGUMENT WILL THROW ERROR JUST LIKE POSITIONAL ARGUMENTS \n",
    "\n",
    "#----Passing extra arguments than parameters \n",
    "try:info(name='shiva', age=23, ciuntry='India')\n",
    "except: print('TypeError: info() takes 2 positional arguments but 3 were given')\n",
    "\n",
    "#-----Passing less arguments than parameters \n",
    "try:info(name='shiva')\n",
    "except: print('TypeError: info() missing 1 required positional argument: age')"
   ]
  },
  {
   "cell_type": "markdown",
   "id": "7c478e6b",
   "metadata": {},
   "source": [
    "##### C) Default Arguments "
   ]
  },
  {
   "cell_type": "code",
   "execution_count": 73,
   "id": "1b2b1112",
   "metadata": {},
   "outputs": [
    {
     "name": "stdout",
     "output_type": "stream",
     "text": [
      "total cart value 301 INR\n",
      "total cart value 301 USD\n"
     ]
    }
   ],
   "source": [
    "# Function with postional arguemnt \n",
    "def total_cost(item, currency):\n",
    "    cost=sum(item.values())   # list []\n",
    "    print(f'total cart value {cost} {currency}')\n",
    "cart_item ={'mobile':100, 'pen':1, 'laptop':200 }\n",
    "total_cost(cart_item, 'INR')\n",
    "\n",
    "#FUNCTION WITH DEFAULT CURRENCY \n",
    "def total_cost(item, currency='INR'):\n",
    "    cost=sum(item.values())   # list []\n",
    "    print(f'total cart value {cost} {currency}')\n",
    "cart_item ={'mobile':100, 'pen':1, 'laptop':200 }\n",
    "total_cost(cart_item, 'USD')"
   ]
  },
  {
   "cell_type": "markdown",
   "id": "571623f7",
   "metadata": {},
   "source": [
    "###### IMPORTANT POIT about DEFAULT ARGUMENTS"
   ]
  },
  {
   "cell_type": "code",
   "execution_count": 4,
   "id": "dfd6d0f5",
   "metadata": {},
   "outputs": [
    {
     "name": "stdout",
     "output_type": "stream",
     "text": [
      "total cart value 301 RUBEL\n"
     ]
    }
   ],
   "source": [
    "#1) ARGUMENT HAS HIGHER PRIORITY HENCE IT WILL OVERRIDE THE DEFAULT VALUE\n",
    "def total_cost(item, currency='INR'):\n",
    "    cost=sum(item.values())   # list []\n",
    "    print(f'total cart value {cost} {currency}')\n",
    "cart_item ={'mobile':100, 'pen':1, 'laptop':200 }\n",
    "total_cost(cart_item, 'RUBEL')  #passing currecy rubel "
   ]
  },
  {
   "cell_type": "code",
   "execution_count": 74,
   "id": "6e028747",
   "metadata": {},
   "outputs": [
    {
     "ename": "SyntaxError",
     "evalue": "parameter without a default follows parameter with a default (1706156139.py, line 3)",
     "output_type": "error",
     "traceback": [
      "\u001b[1;36m  Cell \u001b[1;32mIn[74], line 3\u001b[1;36m\u001b[0m\n\u001b[1;33m    def total_cost(currency= 'INR', item):\u001b[0m\n\u001b[1;37m                                    ^\u001b[0m\n\u001b[1;31mSyntaxError\u001b[0m\u001b[1;31m:\u001b[0m parameter without a default follows parameter with a default\n"
     ]
    }
   ],
   "source": [
    "#2) Default argument must me given at last of paraters ELSE ERROR\n",
    "        #SyntaxError: parameter without a default follows parameter with a default\n",
    "def total_cost(currency= 'INR', item):\n",
    "    cost=sum(item.values())   # list []\n",
    "    print(f'total cart value {cost} {currency}')\n",
    "cart_item ={'mobile':100, 'pen':1, 'laptop':200 }\n",
    "total_cost(cart_item, 'USD')"
   ]
  },
  {
   "cell_type": "code",
   "execution_count": 8,
   "id": "e63e8098",
   "metadata": {},
   "outputs": [
    {
     "name": "stdout",
     "output_type": "stream",
     "text": [
      "updated data ['raj']\n",
      "updated data ['raj', 'dev']\n",
      "updated data ['raj', 'dev', 'ops']\n",
      "--------------------------------------------------\n",
      "updated data ['raj']\n",
      "updated data ['dev']\n",
      "updated data ['ops']\n"
     ]
    }
   ],
   "source": [
    "#3) Default Arguments with MUTABLE Datatype object  \n",
    "        #Python create mutable object once (when it is defined) Not everytime it call \n",
    "\n",
    "def add (name, data =[]):\n",
    "    data.append(name)\n",
    "    print(f'updated data {data}')\n",
    "add('raj')\n",
    "add('dev')\n",
    "add('ops')\n",
    "\n",
    "print('-'*50)\n",
    "#HOW TO AVOID THIS ?\n",
    "    #BEST Practice: 1) give default value None and initialy the object inside the function\n",
    "\n",
    "def add (name, data =None):\n",
    "    if data is None:\n",
    "        data=[]\n",
    "    data.append(name)\n",
    "    print(f'updated data {data}')\n",
    "add('raj')\n",
    "add('dev')\n",
    "add('ops')\n",
    "\n",
    "\n"
   ]
  },
  {
   "cell_type": "markdown",
   "id": "46cf25a7",
   "metadata": {},
   "source": [
    "#### D) Variable-length arguments: *args, **kwargs\n"
   ]
  },
  {
   "cell_type": "markdown",
   "id": "7533297c",
   "metadata": {},
   "source": [
    "##### Variable length Positional arguments "
   ]
  },
  {
   "cell_type": "code",
   "execution_count": null,
   "id": "90ae447c",
   "metadata": {},
   "outputs": [
    {
     "name": "stdout",
     "output_type": "stream",
     "text": [
      "12\n",
      "15\n",
      "19\n"
     ]
    }
   ],
   "source": [
    "def addition(*nums):\n",
    "    tp=nums  #as python store VLP arguments as tuple \n",
    "    # print(type(tp))  #<class 'tuple'> \n",
    "    sum1=0\n",
    "    for n in tp:\n",
    "        sum1+=n\n",
    "    return sum1\n",
    "\n",
    "# addtion(10,2,3,4)\n",
    "print(addition(10,2))\n",
    "print(addition(10,2,3))\n",
    "print(addition(10,2,3,4))"
   ]
  },
  {
   "cell_type": "markdown",
   "id": "5c2ad8dd",
   "metadata": {},
   "source": [
    "##### Variable length keyword arguments "
   ]
  },
  {
   "cell_type": "code",
   "execution_count": 12,
   "id": "281b25e8",
   "metadata": {},
   "outputs": [
    {
     "name": "stdout",
     "output_type": "stream",
     "text": [
      "3\n",
      "13\n",
      "33\n"
     ]
    }
   ],
   "source": [
    "def addition (**nums):\n",
    "    dc=nums\n",
    "    return sum(dc.values())\n",
    "\n",
    "print(addition(n1=1, n2=2))\n",
    "print(addition(n1=1, n2=2, n3=10))\n",
    "print(addition(n1=1, n2=2, n3=10,n4=20))"
   ]
  },
  {
   "cell_type": "markdown",
   "id": "a452a366",
   "metadata": {},
   "source": [
    "##### Mixinf *argus  & **kwargus"
   ]
  },
  {
   "cell_type": "code",
   "execution_count": 16,
   "id": "cb774d71",
   "metadata": {},
   "outputs": [
    {
     "name": "stdout",
     "output_type": "stream",
     "text": [
      "(10, 20)\n",
      "{'n1': 30, 'n2': 30}\n"
     ]
    }
   ],
   "source": [
    "#Order should be position then keyword : otherwise throw error \n",
    "def display(*num, **nums):\n",
    "    print(num) #return tuple \n",
    "    print(nums) #return dict\n",
    "display(10,20, n1=30, n2=30)"
   ]
  },
  {
   "cell_type": "markdown",
   "id": "34c009d0",
   "metadata": {},
   "source": [
    "### 3.2) Return Statement"
   ]
  },
  {
   "cell_type": "code",
   "execution_count": 1,
   "id": "57a7660f",
   "metadata": {},
   "outputs": [
    {
     "name": "stdout",
     "output_type": "stream",
     "text": [
      "Simple interest is 350.0\n",
      "Name Error\n"
     ]
    }
   ],
   "source": [
    "# NEED OF RETURN STATEMENT \n",
    "#SUppose you want to use SI outside the local space for calculating the total amount\n",
    "    # You can't access SI in global space: it will throw name error \n",
    "def simple_interest(p,n,r):\n",
    "    si=(p*n*r)/100\n",
    "    print(f'Simple interest is {si}')\n",
    "P=1000\n",
    "N=5\n",
    "R=7\n",
    "simple_interest(P,N,R)\n",
    "\n",
    "try: \n",
    "    total =P + si\n",
    "except: print('Name Error')    "
   ]
  },
  {
   "cell_type": "code",
   "execution_count": 6,
   "id": "746d48c8",
   "metadata": {},
   "outputs": [
    {
     "name": "stdout",
     "output_type": "stream",
     "text": [
      "1350.0\n"
     ]
    }
   ],
   "source": [
    "#NOW WITH RETURN Statement \n",
    "def simple_interest(p,n,r):\n",
    "    si = (p*n*r)/100\n",
    "    return si   \n",
    "P=1000\n",
    "N=5\n",
    "R=7\n",
    "si = simple_interest(P,N,R) # here si is global space so wont impact the local \n",
    "total = P + si\n",
    "print(total)"
   ]
  },
  {
   "cell_type": "markdown",
   "id": "4cb9090d",
   "metadata": {},
   "source": [
    "##### Important points about return statement "
   ]
  },
  {
   "cell_type": "code",
   "execution_count": null,
   "id": "88193209",
   "metadata": {},
   "outputs": [
    {
     "name": "stdout",
     "output_type": "stream",
     "text": [
      "5\n",
      "--------------------------------------------------\n",
      "<class 'tuple'>\n",
      "(5, 6, 0.6666666666666666)\n",
      "--------------------------------------------------\n",
      "sam has age 21\n",
      "None\n"
     ]
    }
   ],
   "source": [
    "#1) return end the function and send value back to caller\n",
    "def addition(a,b):\n",
    "    x=a+b\n",
    "    return x\n",
    "var=addition(2,3)\n",
    "print(var)\n",
    "\n",
    "\n",
    "print('-'*50)\n",
    "#2) You can return multiple values: return in form of tuple \n",
    "def addition(a,b):\n",
    "    x=a+b\n",
    "    y=a*b\n",
    "    z=a/b\n",
    "    return x , y, z\n",
    "var=addition(2,3)\n",
    "print(type(var))\n",
    "print(var)\n",
    "\n",
    "\n",
    "print('-'*50)\n",
    "#3) Function without return statement return None\n",
    "\n",
    "def display(name, age):\n",
    "    print(f'{name} has age {age}')\n",
    "var=display('sam', 21)\n",
    "print(var)\n",
    " \n"
   ]
  },
  {
   "cell_type": "markdown",
   "id": "d59d9a1a",
   "metadata": {},
   "source": [
    "#### Nested Function : Function with in the function "
   ]
  },
  {
   "cell_type": "code",
   "execution_count": 1,
   "id": "284d3c48",
   "metadata": {},
   "outputs": [
    {
     "name": "stdout",
     "output_type": "stream",
     "text": [
      "NameError: name inner_function is not defined\n",
      "welcome\n",
      "Buddy\n",
      "welcome!\n",
      "shiv has age 20\n"
     ]
    }
   ],
   "source": [
    "def outer_function():\n",
    "    print('welcome')\n",
    "    def inner_function():\n",
    "        print('Buddy')\n",
    "\n",
    "#IMPORTANT POINTS \n",
    "\n",
    "#1)inner function is only accessible inside the outer function\n",
    "def outer_function():\n",
    "    print('welcome')\n",
    "    def inner_function():\n",
    "        print('Buddy')\n",
    "try: inner_function() #accessing outside/ or in global scope \n",
    "except: print('NameError: name inner_function is not defined')\n",
    "\n",
    "#-----now access indide the outer function\n",
    "def outer_function():\n",
    "    print('welcome')\n",
    "    def inner_function():\n",
    "        print('Buddy')\n",
    "    inner_function()\n",
    "outer_function()\n",
    "\n",
    "#2) Outer function can call the inner function.\n",
    "#3) Inner function can access variables of the outer function\n",
    "def outer_function():\n",
    "    name='shiv'\n",
    "    age=20\n",
    "    print('welcome!')\n",
    "    def inner_function():\n",
    "        print(f'{name} has age {age}')\n",
    "    inner_function()\n",
    "outer_function()"
   ]
  }
 ],
 "metadata": {
  "kernelspec": {
   "display_name": "Python 3",
   "language": "python",
   "name": "python3"
  },
  "language_info": {
   "codemirror_mode": {
    "name": "ipython",
    "version": 3
   },
   "file_extension": ".py",
   "mimetype": "text/x-python",
   "name": "python",
   "nbconvert_exporter": "python",
   "pygments_lexer": "ipython3",
   "version": "3.12.2"
  }
 },
 "nbformat": 4,
 "nbformat_minor": 5
}
