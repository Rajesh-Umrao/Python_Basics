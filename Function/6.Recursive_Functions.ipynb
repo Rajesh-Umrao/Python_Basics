{
 "cells": [
  {
   "cell_type": "markdown",
   "id": "5c57c672",
   "metadata": {},
   "source": [
    "<h1>Recursive Function</h1>\n",
    "<p>When a function calls itself, called Recursive function and process is called as Recursion </p>\n",
    "<p>Cautions</p>\n",
    "<ul>\n",
    "    <li>Recursive functions must have STOP condition else it will go in infinite loop</li>\n",
    "    <li>Too many recursive calls cause a RecursionError:</li>\n",
    "</ul>"
   ]
  },
  {
   "cell_type": "code",
   "execution_count": 33,
   "id": "c1838356",
   "metadata": {},
   "outputs": [
    {
     "name": "stdout",
     "output_type": "stream",
     "text": [
      "hello buddy from normal function\n",
      "hello buddy\n",
      "hello buddy\n",
      "hello buddy\n",
      "hello buddy\n",
      "hello buddy\n",
      "Done\n"
     ]
    }
   ],
   "source": [
    "#Normal Function: We Define the function then we call the function outside of function definition\n",
    "\n",
    "def greet():\n",
    "    print('hello buddy from normal function')\n",
    "greet() #hello buddy\n",
    "\n",
    "#-----RECURSIVE FUNCTIONS-----\n",
    "def display(n):\n",
    "    if n==0:\n",
    "        return print('Done')\n",
    "    else: \n",
    "        print('hello buddy')\n",
    "        display(n-1)  #recursive call\n",
    "display(5)"
   ]
  },
  {
   "cell_type": "markdown",
   "id": "284496e1",
   "metadata": {},
   "source": [
    "##### Checking the Default Recursion Limit and Modifying the Limit   "
   ]
  },
  {
   "cell_type": "code",
   "execution_count": 30,
   "id": "6fef5f3f",
   "metadata": {},
   "outputs": [
    {
     "name": "stdout",
     "output_type": "stream",
     "text": [
      "200\n"
     ]
    }
   ],
   "source": [
    "import sys\n",
    "print(sys.getrecursionlimit()) #current default limit: 3000\n",
    "\n",
    "#----How to modify: Limit ----\n",
    "sys.setrecursionlimit(200)"
   ]
  },
  {
   "cell_type": "markdown",
   "id": "f4ae238b",
   "metadata": {},
   "source": [
    "<h1>Types of Recursion</h1>\n",
    "<ol>\n",
    "    <li>Direct Recursion: A function calls itself directly to solve a smaller version of the problem</li>\n",
    "    <li>Indirect Recursion: In indirect recursion, function A calls function B, and B calls function A — forming a mutual recursion cycle</li>\n",
    "    </ol>\n"
   ]
  },
  {
   "cell_type": "markdown",
   "id": "aabc08cd",
   "metadata": {},
   "source": [
    "##### 1) Direct Recursion"
   ]
  },
  {
   "cell_type": "code",
   "execution_count": 41,
   "id": "facb5e49",
   "metadata": {},
   "outputs": [
    {
     "name": "stdout",
     "output_type": "stream",
     "text": [
      "3\n",
      "2\n",
      "1\n"
     ]
    }
   ],
   "source": [
    "#printing the countdown \n",
    "def countdown(n):\n",
    "    if n==0:\n",
    "        return \n",
    "    else:\n",
    "        print(n)\n",
    "        countdown(n-1)  #recursive call \n",
    "countdown(3) \n",
    "    "
   ]
  },
  {
   "cell_type": "markdown",
   "id": "772940f3",
   "metadata": {},
   "source": [
    "##### 2) Indirect Functions "
   ]
  },
  {
   "cell_type": "code",
   "execution_count": 42,
   "id": "df3bb204",
   "metadata": {},
   "outputs": [
    {
     "name": "stdout",
     "output_type": "stream",
     "text": [
      "True\n",
      "True\n",
      "False\n"
     ]
    }
   ],
   "source": [
    "#checking Number is even or odd\n",
    "def is_even(n):\n",
    "    if n==0:\n",
    "        return True\n",
    "    else: \n",
    "        return is_odd(n-1)\n",
    "def is_odd(n):\n",
    "    if n==0:\n",
    "        return False \n",
    "    else:\n",
    "        return is_even(n-1)\n",
    "print(is_even(4))  # Output: True\n",
    "print(is_odd(3))   # Output: True\n",
    "print(is_even(5))  # Output: False"
   ]
  },
  {
   "cell_type": "markdown",
   "id": "3b1067d0",
   "metadata": {},
   "source": [
    "# Application of Recursion "
   ]
  },
  {
   "cell_type": "markdown",
   "id": "fbba2919",
   "metadata": {},
   "source": [
    "#### 1)Finding Factorial of a given Number "
   ]
  },
  {
   "cell_type": "code",
   "execution_count": 48,
   "id": "d80f9d28",
   "metadata": {},
   "outputs": [
    {
     "name": "stdout",
     "output_type": "stream",
     "text": [
      "24\n"
     ]
    }
   ],
   "source": [
    "def fact(n):\n",
    "    if n==1:\n",
    "        return 1 \n",
    "    else: \n",
    "        return n*fact(n-1) #recursive call \n",
    "print(fact(4))"
   ]
  },
  {
   "cell_type": "markdown",
   "id": "0f892d1c",
   "metadata": {},
   "source": [
    "##### 2) Fabonacci Series "
   ]
  },
  {
   "cell_type": "code",
   "execution_count": 53,
   "id": "12e3be32",
   "metadata": {},
   "outputs": [
    {
     "name": "stdout",
     "output_type": "stream",
     "text": [
      "1\n",
      "1\n",
      "2\n",
      "3\n"
     ]
    }
   ],
   "source": [
    "def fibo(n):\n",
    "    if n <= 1:\n",
    "        return n\n",
    "    else:\n",
    "        return fibo(n - 1) + fibo(n - 2)\n",
    "n=int(input('Enter the number of terms'))\n",
    "fibo(n)\n",
    "#for printing the individual term of fibonacci series \n",
    "for i in range(1,n+1):\n",
    "    print(fibo(i))"
   ]
  }
 ],
 "metadata": {
  "kernelspec": {
   "display_name": "Python 3",
   "language": "python",
   "name": "python3"
  },
  "language_info": {
   "codemirror_mode": {
    "name": "ipython",
    "version": 3
   },
   "file_extension": ".py",
   "mimetype": "text/x-python",
   "name": "python",
   "nbconvert_exporter": "python",
   "pygments_lexer": "ipython3",
   "version": "3.12.2"
  }
 },
 "nbformat": 4,
 "nbformat_minor": 5
}
