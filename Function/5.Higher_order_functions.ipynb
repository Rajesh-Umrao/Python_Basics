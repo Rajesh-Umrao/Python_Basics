{
 "cells": [
  {
   "cell_type": "markdown",
   "id": "76d08887",
   "metadata": {},
   "source": [
    "<h1>Higher Order function</h1>\n",
    "<p>A Higher-Order Function is a function that does at least one of the following: </p>\n",
    "    <ol>\n",
    "        <li>Takes another function as an argument ✅</li>\n",
    "        <li>Returns a function ✅ </li>\n",
    "        <li>(Or both) ✅✅</li>\n",
    "    </ol>"
   ]
  },
  {
   "cell_type": "markdown",
   "id": "86e8e4de",
   "metadata": {},
   "source": [
    "<h3>Built-in Higher Order function</h3>\n",
    "<p>Python provides several built-in HOFs such as filter(), map(), reduce() and sorted(), which simplify operations on iterable objects. Important Built-in higher order function are </p>\n",
    "    <ul>\n",
    "        <li>filter</li>\n",
    "        <li>map </li>\n",
    "        <li>reduce </li>\n",
    "        <li>sorted </li>\n",
    "    </ul>\n",
    "<h2>--------------------------------------------------------</h1>"
   ]
  },
  {
   "cell_type": "markdown",
   "id": "7f772413",
   "metadata": {},
   "source": [
    "<h2>Filter()</h2>\n",
    "    <ul>\n",
    "        <li>Use: it Filters items based on a function that returns True or False.</li>\n",
    "        <li>Syntax: filter(function, iterable)</li>\n",
    "    </ul>\n"
   ]
  },
  {
   "cell_type": "code",
   "execution_count": null,
   "id": "d2c8d8b3",
   "metadata": {},
   "outputs": [
    {
     "name": "stdout",
     "output_type": "stream",
     "text": [
      "<filter object at 0x0000018ADCFA75B0>\n",
      "<class 'filter'>\n",
      "[2, 4, 6]\n",
      "[]\n",
      "[2, 4, 6]\n",
      "[]\n"
     ]
    }
   ],
   "source": [
    "#filter the even nos from the list \n",
    "data= [1,2,3,4,5,6]\n",
    "def even(num):\n",
    "    if num%2==0:\n",
    "        return True\n",
    "    else: False\n",
    "result= filter(even,data)\n",
    "print(result)          #return #<filter object at 0x000001FDE15DC3D0> which is iterable \n",
    "print(type(result))\n",
    "print(list(result))   #Output: [2, 4, 6]← first list(result) works.\n",
    "print(list(result))    # O/p:[] ← 2nd list(result) is empty because iterator is exhausted after one use\n",
    "\n",
    "\n",
    "#-------------------------USE OF LAMBDA function instead of Normal Function-------------\n",
    "\n",
    "data= [1,2,3,4,5,6]\n",
    "filtered_data= filter(lambda x: x%2==0, data)\n",
    "\n",
    "print(list(filtered_data))\n",
    "print(list(filtered_data))  #printing 2nd time give emplty list \n"
   ]
  },
  {
   "cell_type": "markdown",
   "id": "f7e715cb",
   "metadata": {},
   "source": [
    "<h1>-----------------------------------------</h1>\n",
    "<h2>map()</h2>\n",
    "    <ul>\n",
    "        <li>Use: APPLY A FUNCTION to each item in an iterable.</li>\n",
    "        <li>Syntax: map(function, iterable)</li>\n",
    "    </ul>\n"
   ]
  },
  {
   "cell_type": "code",
   "execution_count": 10,
   "id": "c7d63789",
   "metadata": {},
   "outputs": [
    {
     "name": "stdout",
     "output_type": "stream",
     "text": [
      "[4, 9, 16, 25, 36]\n",
      "[4, 9, 16, 25, 36]\n",
      "[]\n"
     ]
    }
   ],
   "source": [
    "#Example: Square of each number\n",
    "data =[2,3,4,5,6]\n",
    "def square(num):\n",
    "    return num**2\n",
    "result=map(square, data)\n",
    "print(list(result))\n",
    "\n",
    "#-----------------USE OF LAMBDA FUNCTION----------------\n",
    "data =[2,3,4,5,6]\n",
    "mapped_object = map(lambda x: x**2, data)\n",
    "print(list(mapped_object))\n",
    "print(list(mapped_object))   #Retun empty after use (mapped object exhausted)\n"
   ]
  },
  {
   "cell_type": "code",
   "execution_count": 11,
   "id": "e9e6863b",
   "metadata": {},
   "outputs": [
    {
     "name": "stdout",
     "output_type": "stream",
     "text": [
      "[111, 222]\n"
     ]
    }
   ],
   "source": [
    "#Multiple Iterable in MAP \n",
    "a = [1, 2]\n",
    "b = [10, 20]\n",
    "c = [100, 200]\n",
    "\n",
    "result = map(lambda x, y, z: x + y + z, a, b, c)\n",
    "print(list(result))  # Output: [111, 222]"
   ]
  },
  {
   "cell_type": "markdown",
   "id": "725f3064",
   "metadata": {},
   "source": [
    "<h1>-----------------------------------------</h1>\n",
    "<h2>reduce()</h2>\n",
    "    <ul>\n",
    "        <li>Use: APPLY A FUNCTION to each item in an iterable.</li>\n",
    "        <li>Syntax: map(function, iterable)</li>\n",
    "    </ul>\n"
   ]
  },
  {
   "cell_type": "code",
   "execution_count": null,
   "id": "2c77ee18",
   "metadata": {},
   "outputs": [
    {
     "name": "stdout",
     "output_type": "stream",
     "text": [
      "15\n",
      "15\n",
      "15\n"
     ]
    }
   ],
   "source": [
    "#finding the sum of numbers \n",
    "import functools  as f\n",
    "data=[1,2,3,4,5]\n",
    "def sum(a,b):\n",
    "    return a+b\n",
    "reduced_object = f.reduce(sum, data)\n",
    "print(reduced_object)\n",
    "\n",
    "# ----------------USE OF LAMBDA FUNCTION----------------\n",
    "data=[1,2,3,4,5]\n",
    "reduced_object=f.reduce(lambda a,b: a+b, data)\n",
    "print(reduced_object)\n"
   ]
  }
 ],
 "metadata": {
  "kernelspec": {
   "display_name": "Python 3",
   "language": "python",
   "name": "python3"
  },
  "language_info": {
   "codemirror_mode": {
    "name": "ipython",
    "version": 3
   },
   "file_extension": ".py",
   "mimetype": "text/x-python",
   "name": "python",
   "nbconvert_exporter": "python",
   "pygments_lexer": "ipython3",
   "version": "3.12.2"
  }
 },
 "nbformat": 4,
 "nbformat_minor": 5
}
