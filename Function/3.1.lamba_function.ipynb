{
 "cells": [
  {
   "cell_type": "markdown",
   "id": "413d1ba7",
   "metadata": {},
   "source": [
    "# lambda function"
   ]
  },
  {
   "cell_type": "markdown",
   "id": "795041a1",
   "metadata": {},
   "source": [
    "#### 1)Difference between NORMAL & LAMBDA Function"
   ]
  },
  {
   "cell_type": "code",
   "execution_count": 1,
   "id": "999d44b8",
   "metadata": {},
   "outputs": [
    {
     "name": "stdout",
     "output_type": "stream",
     "text": [
      "addition by lambda is: 5\n"
     ]
    }
   ],
   "source": [
    "# Normal function: def function \n",
    "def add (a, b):\n",
    "    print(f'addition by def is: {a+b}')\n",
    "\n",
    "#lambda function: general syntax lambda arguments: expression\n",
    "add=lambda a,b:a+b\n",
    "print(f'addition by lambda is: {add(2,3)}')"
   ]
  },
  {
   "cell_type": "markdown",
   "id": "208b7fbc",
   "metadata": {},
   "source": [
    "#### 2)Since lambda is anonymous function: Then how to call"
   ]
  },
  {
   "cell_type": "code",
   "execution_count": 2,
   "id": "e7c66791",
   "metadata": {},
   "outputs": [
    {
     "name": "stdout",
     "output_type": "stream",
     "text": [
      "<function <lambda> at 0x000002B916043BA0>\n",
      "<class 'function'>\n"
     ]
    }
   ],
   "source": [
    "#ANS: BY using ALIASE\n",
    "add= lambda a,b:a+b\n",
    "print(add) # tell that it is python function object \n",
    "print(type(add))  # tells the type of object \"function\""
   ]
  },
  {
   "cell_type": "markdown",
   "id": "b3fac8e7",
   "metadata": {},
   "source": [
    "#### 3)Details of lambda function"
   ]
  },
  {
   "cell_type": "code",
   "execution_count": 6,
   "id": "95850e72",
   "metadata": {},
   "outputs": [
    {
     "name": "stdout",
     "output_type": "stream",
     "text": [
      "11\n"
     ]
    }
   ],
   "source": [
    "#3.1) RETURN is by default in lambda function\n",
    "\n",
    "add = lambda x,y: x+y     # no need to write add = lambda x,y: return x+y\n",
    "print(add(5,6))"
   ]
  },
  {
   "cell_type": "code",
   "execution_count": null,
   "id": "0b059864",
   "metadata": {},
   "outputs": [
    {
     "name": "stdout",
     "output_type": "stream",
     "text": [
      "NameError name x is not defined\n"
     ]
    }
   ],
   "source": [
    "#3.2) Normally can't return multiple values \n",
    "try:\n",
    "    func = lambda x,y: x+y, x-y  \n",
    "except: print('NameError name x is not defined')"
   ]
  },
  {
   "cell_type": "code",
   "execution_count": null,
   "id": "4f6b10e0",
   "metadata": {},
   "outputs": [
    {
     "name": "stdout",
     "output_type": "stream",
     "text": [
      "addtion: 7\n",
      "subtraction: 3\n",
      "Multiplication 10\n"
     ]
    }
   ],
   "source": [
    "#Returning multiple values through collection in terms of list, tuple \n",
    "func = lambda x,y: (x+y, x-y, x*y)\n",
    "add, sub, mult  =func (5,2)\n",
    "print('addition:', add)\n",
    "print('subtraction:', sub)\n",
    "print('Multiplication', mult)"
   ]
  },
  {
   "cell_type": "markdown",
   "id": "978a6578",
   "metadata": {},
   "source": [
    "#### Use of Lambda function"
   ]
  },
  {
   "cell_type": "code",
   "execution_count": null,
   "id": "0805832b",
   "metadata": {},
   "outputs": [
    {
     "name": "stdout",
     "output_type": "stream",
     "text": [
      "['xi', 'raj', 'jane', 'devil']\n",
      "[2, 4]\n",
      "[1, 4, 9, 16]\n"
     ]
    }
   ],
   "source": [
    "# USED AS ARGUMENT OF HIGHER ORDER FUNCTION \n",
    "\n",
    "# 1)  Use in sorted() with key:\n",
    "name =['raj', 'jane', 'devil', 'xi']\n",
    "sorted_name=sorted(name, key=lambda x: len(x))\n",
    "print(sorted_name)\n",
    "\n",
    "\n",
    "#2) USED IN FILTER FUNCTION\n",
    "nums = [1, 2, 3, 4, 5]\n",
    "even = list(filter(lambda x: x % 2 == 0, nums))\n",
    "print(even)\n",
    "\n",
    "\n",
    "#3) USED IN MAP FUNCTION\n",
    "nums = [1, 2, 3, 4]\n",
    "squared = list(map(lambda x: x**2, nums))\n",
    "print(squared)"
   ]
  },
  {
   "cell_type": "markdown",
   "id": "c14a385a",
   "metadata": {},
   "source": [
    "#### NESTED Lambda function"
   ]
  },
  {
   "cell_type": "code",
   "execution_count": 25,
   "id": "d7245acc",
   "metadata": {},
   "outputs": [
    {
     "name": "stdout",
     "output_type": "stream",
     "text": [
      "14\n",
      "14\n"
     ]
    }
   ],
   "source": [
    "# f(x, y, z) = x^2 + y^2 + z^2\n",
    "\n",
    "#normal nexted function for this function\n",
    "def square():\n",
    "    def sum_square(x,y,z):\n",
    "        return x**2 + y**2 + z**2\n",
    "    return sum_square\n",
    "result = square()\n",
    "print(result(1,2,3))\n",
    "\n",
    "\n",
    "# -------------X---------------------X--------------------\n",
    "#same using nested lambda \n",
    "sum_square = lambda: lambda x,y,z: x**2 + y**2 + z**2\n",
    "answer=sum_square() #assign to variable\n",
    "print(answer(1,2,3))\n"
   ]
  },
  {
   "cell_type": "markdown",
   "id": "5853822d",
   "metadata": {},
   "source": [
    "#### Lambda function with short hand if-else "
   ]
  },
  {
   "cell_type": "code",
   "execution_count": 30,
   "id": "9cef3f72",
   "metadata": {},
   "outputs": [
    {
     "name": "stdout",
     "output_type": "stream",
     "text": [
      "20\n"
     ]
    }
   ],
   "source": [
    "#Check if a 1st number is  greater than 2nd number \n",
    "n1=20\n",
    "n2=5\n",
    "func= lambda n1,n2 : n1 if n1>=n2 else n2\n",
    "print(func(n1,n2))\n"
   ]
  }
 ],
 "metadata": {
  "kernelspec": {
   "display_name": "Python 3",
   "language": "python",
   "name": "python3"
  },
  "language_info": {
   "codemirror_mode": {
    "name": "ipython",
    "version": 3
   },
   "file_extension": ".py",
   "mimetype": "text/x-python",
   "name": "python",
   "nbconvert_exporter": "python",
   "pygments_lexer": "ipython3",
   "version": "3.12.2"
  }
 },
 "nbformat": 4,
 "nbformat_minor": 5
}
