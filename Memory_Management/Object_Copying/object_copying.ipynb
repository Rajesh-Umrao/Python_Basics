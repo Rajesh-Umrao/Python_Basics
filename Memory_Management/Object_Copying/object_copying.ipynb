{
 "cells": [
  {
   "cell_type": "markdown",
   "id": "6db80125",
   "metadata": {},
   "source": [
    "# Object copying in python"
   ]
  },
  {
   "cell_type": "markdown",
   "id": "33b53059",
   "metadata": {},
   "source": [
    "### 1) Assignment(=) aka reference copy "
   ]
  },
  {
   "cell_type": "code",
   "execution_count": null,
   "id": "73605211",
   "metadata": {},
   "outputs": [
    {
     "name": "stdout",
     "output_type": "stream",
     "text": [
      "b id: 2314672487936\n",
      "ids of element of A:\n",
      "   1st:: 140720877881784\n",
      "   2nd::140720877881816\n",
      "   3rd::140720877881848\n",
      "------------------------------\n",
      "b object: [1, 2, 3]\n",
      "b id: 2314672487936\n",
      "ids of element of A:\n",
      "   1st:: 140720877881784\n",
      "   2nd::140720877881816\n",
      "   3rd::140720877881848\n",
      "------------------------------\n",
      "Graph written to C:\\Users\\RAJESH~1\\AppData\\Local\\Temp\\objgraph-nlqrbcqf.dot (5 nodes)\n",
      "Image generated as normalycopy.png\n"
     ]
    }
   ],
   "source": [
    "#ABOUT: When you assign a variable to another variable\n",
    "a=[1,2,3]\n",
    "\n",
    "#Assiginment(=)/Referencing \n",
    "b=a\n",
    "\n",
    "#Check: memeory location for a \n",
    "print(f'b id: {id(a)}')\n",
    "print(f'ids of element of A:\\n  1st:: {id(a[0])}\\n   2nd::{id(a[1])}\\n   3rd::{id(a[2])}\\n{\"-\"*30}')\n",
    "\n",
    "#Check: memeory location for b \n",
    "print(f'b object: {b}')\n",
    "print(f'b id: {id(b)}')\n",
    "print(f'ids of element of A:\\n   1st:: {id(b[0])}\\n   2nd::{id(b[1])}\\n   3rd::{id(b[2])}\\n{\"-\"*30}')\n",
    "\n",
    "#VISUALISE THE ITEMS \n",
    "import objgraph\n",
    "objgraph.show_refs([a,b], filename='normalycopy.png')"
   ]
  },
  {
   "cell_type": "markdown",
   "id": "fe4afe09",
   "metadata": {},
   "source": [
    "##### PROBLEM in assigment/referencing "
   ]
  },
  {
   "cell_type": "code",
   "execution_count": 96,
   "id": "eb3b26df",
   "metadata": {},
   "outputs": [
    {
     "name": "stdout",
     "output_type": "stream",
     "text": [
      "object after modification:\n",
      "   object a: [1000, 2, 3]\n",
      "   object b: [1000, 2, 3]\n",
      "\n",
      "object ids after modification:\n",
      "  id of object a:: 2314635930304\n",
      "  id of object b:: 2314635930304\n",
      "------------------------------\n",
      "B element Ids After modication:\n",
      "  1st:: 2314646823952\n",
      "  2nd::140720877881816\n",
      "  3rd:: 140720877881848\n",
      "------------------------------\n",
      "B element Ids After modication:\n",
      "  1st:: 2314646823952\n",
      "  2nd::140720877881816\n",
      "  3rd:: 140720877881848\n",
      "------------------------------\n",
      "Graph written to C:\\Users\\RAJESH~1\\AppData\\Local\\Temp\\objgraph-qkj7k0y3.dot (5 nodes)\n",
      "Image generated as normalcopy_modification.png\n"
     ]
    }
   ],
   "source": [
    "#PROBLEM: Any changes in object a will also change the object b \n",
    "a=[1,2,3]\n",
    "b=a\n",
    "b[0]=1000  #modify the 1st item of b\n",
    "\n",
    "#object after modification\n",
    "print(f'object after modification:\\n   object a: {a}\\n   object b: {b}\\n')\n",
    "\n",
    "#Object ids after modification\n",
    "print(f'object ids after modification:\\n  id of object a:: {id(a)}\\n  id of object b:: {id(b)}\\n{\"-\"*30}')\n",
    "\n",
    "\n",
    "#A's Elemenet ids after modifications\n",
    "print(f'B element Ids After modication:\\n  1st:: {id(a[0])}\\n  2nd::{id(a[1])}\\n  3rd:: {id(a[2])}\\n{\"-\"*30}')\n",
    "\n",
    "#B's Elemenet ids after modifications\n",
    "print(f'B element Ids After modication:\\n  1st:: {id(b[0])}\\n  2nd::{id(b[1])}\\n  3rd:: {id(b[2])}\\n{\"-\"*30}')\n",
    "\n",
    "\n",
    "#VISUALISE THE ITEMS \n",
    "import objgraph\n",
    "objgraph.show_refs([a,b], filename='normalcopy_modification.png')\n"
   ]
  },
  {
   "cell_type": "markdown",
   "id": "64c1f128",
   "metadata": {},
   "source": [
    "### 2) Shallow copy "
   ]
  },
  {
   "cell_type": "code",
   "execution_count": 105,
   "id": "ea425542",
   "metadata": {},
   "outputs": [
    {
     "name": "stdout",
     "output_type": "stream",
     "text": [
      "a id: 2314636087616\n",
      "ids of element of A:\n",
      "  1st:: 2314646943168\n",
      "   2nd::2314672647680\n",
      "   3rd::2314672651584\n",
      "------------------------------\n",
      "b object: [[1, 2, 3], [4, 5], [6, 'a']]\n",
      "b id: 2314672640512\n",
      "ids of element of A:\n",
      "   1st:: 2314646943168\n",
      "   2nd::2314672647680\n",
      "   3rd::2314672651584\n",
      "------------------------------\n",
      "Graph written to C:\\Users\\RAJESH~1\\AppData\\Local\\Temp\\objgraph-s3bpprjq.dot (12 nodes)\n",
      "Image generated as shallowcopy.png\n"
     ]
    }
   ],
   "source": [
    "import copy \n",
    "a=[[1,2,3],[4,5],[6,'a']]\n",
    "#create a copy of a \n",
    "b=copy.copy(a)\n",
    "\n",
    "#Check: memeory location for a\n",
    "print(f'a id: {id(a)}')\n",
    "print(f'ids of element of A:\\n  1st:: {id(a[0])}\\n   2nd::{id(a[1])}\\n   3rd::{id(a[2])}\\n{\"-\"*30}')\n",
    "\n",
    "#Check: memeory location for b \n",
    "print(f'b object: {b}')\n",
    "print(f'b id: {id(b)}')\n",
    "print(f'ids of element of A:\\n   1st:: {id(b[0])}\\n   2nd::{id(b[1])}\\n   3rd::{id(b[2])}\\n{\"-\"*30}')\n",
    "\n",
    "#VISUALISE THE ITEMS \n",
    "import objgraph\n",
    "objgraph.show_refs([a,b], filename='shallowcopy.png')\n"
   ]
  },
  {
   "cell_type": "markdown",
   "id": "72889e89",
   "metadata": {},
   "source": [
    "##### Effect of Modication "
   ]
  },
  {
   "cell_type": "markdown",
   "id": "203e5999",
   "metadata": {},
   "source": [
    "###### CASE-1: SHALLOW COLY ONLY AFFECT THE NESTED ELEMENTS \n",
    "###### I.e. no change in original object "
   ]
  },
  {
   "cell_type": "code",
   "execution_count": null,
   "id": "4f70df04",
   "metadata": {},
   "outputs": [
    {
     "name": "stdout",
     "output_type": "stream",
     "text": [
      "object a::  [[1, 2, 3], [4, 5], [6, 'a']]\n",
      "object b::  [1000, [4, 5], [6, 'a']]\n",
      "Graph written to C:\\Users\\RAJESH~1\\AppData\\Local\\Temp\\objgraph-gir2a7yz.dot (13 nodes)\n",
      "Image generated as CASE-1shallowcopy_modification.png\n"
     ]
    }
   ],
   "source": [
    "import copy \n",
    "a=[[1,2,3],[4,5],[6,'a']]\n",
    "#create a copy of a \n",
    "b=copy.copy(a)\n",
    "b[0]=1000\n",
    "\n",
    "#check the object after making flat list changes \n",
    "print(f'object a::  {a}')\n",
    "print(f'object b::  {b}')\n",
    "\n",
    "#VISUALISE THE ITEMS \n",
    "import objgraph\n",
    "objgraph.show_refs([a,b], filename='CASE-1shallowcopy_modification.png')\n"
   ]
  },
  {
   "cell_type": "markdown",
   "id": "411cd8e3",
   "metadata": {},
   "source": [
    "###### MAKING CHANGES IN NESTED ELEMENT "
   ]
  },
  {
   "cell_type": "code",
   "execution_count": 112,
   "id": "16903918",
   "metadata": {},
   "outputs": [
    {
     "name": "stdout",
     "output_type": "stream",
     "text": [
      "a element: [[1000, 2, 3], [4, 5], [6, 'a']]\n",
      "b element: [[1000, 2, 3], [4, 5], [6, 'a']]\n"
     ]
    }
   ],
   "source": [
    "a=[[1,2,3],[4,5],[6,'a']]\n",
    "b=copy.copy(a)\n",
    "b[0][0]=1000\n",
    "print(f'a element: {a}')\n",
    "print(f'b element: {b}')"
   ]
  },
  {
   "cell_type": "markdown",
   "id": "f0eace55",
   "metadata": {},
   "source": [
    "### 3) Deep Copy "
   ]
  },
  {
   "cell_type": "code",
   "execution_count": 116,
   "id": "f457c1b1",
   "metadata": {},
   "outputs": [
    {
     "name": "stdout",
     "output_type": "stream",
     "text": [
      "a id: 2314646960192\n",
      "ids of element of A:\n",
      "  1st:: 2314640747008\n",
      "   2nd::2314646958720\n",
      "   3rd::2314646946560\n",
      "------------------------------\n",
      "b object: [[1, 2, 3], [4, 5], [6.7]]\n",
      "b id: 2314646952576\n",
      "ids of element of A:\n",
      "   1st:: 2314646956992\n",
      "   2nd::2314646903872\n",
      "   3rd::2314646961408\n",
      "------------------------------\n",
      "Graph written to C:\\Users\\RAJESH~1\\AppData\\Local\\Temp\\objgraph-ye7zopdu.dot (14 nodes)\n",
      "Image generated as deepcopy.png\n"
     ]
    }
   ],
   "source": [
    "a=[[1,2,3],[4,5],[6.7]]\n",
    "import copy \n",
    "b=copy.deepcopy(a)\n",
    "\n",
    "#Check: memeory location for a\n",
    "print(f'a id: {id(a)}')\n",
    "print(f'ids of element of A:\\n  1st:: {id(a[0])}\\n   2nd::{id(a[1])}\\n   3rd::{id(a[2])}\\n{\"-\"*30}')\n",
    "\n",
    "#Check: memeory location for b \n",
    "print(f'b object: {b}')\n",
    "print(f'b id: {id(b)}')\n",
    "print(f'ids of element of A:\\n   1st:: {id(b[0])}\\n   2nd::{id(b[1])}\\n   3rd::{id(b[2])}\\n{\"-\"*30}')\n",
    "\n",
    "import objgraph\n",
    "objgraph.show_refs([a,b], filename='deepcopy.png')\n"
   ]
  },
  {
   "cell_type": "markdown",
   "id": "bdee87a4",
   "metadata": {},
   "source": [
    "##### EFFECT OF MODIFYING THE COPIED OBJECT"
   ]
  },
  {
   "cell_type": "code",
   "execution_count": 121,
   "id": "e31cf4c8",
   "metadata": {},
   "outputs": [
    {
     "name": "stdout",
     "output_type": "stream",
     "text": [
      "object a: [[1, 2, 3], [4, 5], [6, 7]]\n",
      "object a: [[1, 1000, 3], [4, 5], [6, 7]]\n",
      "Graph written to C:\\Users\\RAJESH~1\\AppData\\Local\\Temp\\objgraph-qocuc_gw.dot (16 nodes)\n",
      "Image generated as Deepcopy_modification.png\n"
     ]
    }
   ],
   "source": [
    "a=[[1,2,3],[4,5],[6, 7]]\n",
    "import copy \n",
    "b=copy.deepcopy(a)\n",
    "\n",
    "b[0][1]=1000\n",
    "\n",
    "print(f'object a:', a)\n",
    "print(f'object a:', b)\n",
    "\n",
    "#VISUALISE THE ITEMS \n",
    "import objgraph\n",
    "objgraph.show_refs([a,b], filename='Deepcopy_modification.png')"
   ]
  }
 ],
 "metadata": {
  "kernelspec": {
   "display_name": "Python 3",
   "language": "python",
   "name": "python3"
  },
  "language_info": {
   "codemirror_mode": {
    "name": "ipython",
    "version": 3
   },
   "file_extension": ".py",
   "mimetype": "text/x-python",
   "name": "python",
   "nbconvert_exporter": "python",
   "pygments_lexer": "ipython3",
   "version": "3.12.2"
  }
 },
 "nbformat": 4,
 "nbformat_minor": 5
}
