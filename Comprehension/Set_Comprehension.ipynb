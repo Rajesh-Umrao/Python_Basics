{
 "cells": [
  {
   "cell_type": "markdown",
   "id": "04dbe095",
   "metadata": {},
   "source": [
    "# Set Coprehension "
   ]
  },
  {
   "cell_type": "markdown",
   "id": "b5aa35fd",
   "metadata": {},
   "source": [
    "### 1) Badic Set comprehension"
   ]
  },
  {
   "cell_type": "code",
   "execution_count": 4,
   "id": "4ed53e96",
   "metadata": {},
   "outputs": [
    {
     "name": "stdout",
     "output_type": "stream",
     "text": [
      "{16, 1, 4, 9}\n"
     ]
    }
   ],
   "source": [
    "#Crete a set of the sqare of the num of list \n",
    "num=[1,2,3,4]\n",
    "my_set= {i**2 for i in num }\n",
    "print(my_set) "
   ]
  },
  {
   "cell_type": "markdown",
   "id": "807e651d",
   "metadata": {},
   "source": [
    "### 2) Set comprehension with if condition"
   ]
  },
  {
   "cell_type": "code",
   "execution_count": 9,
   "id": "8dd2c149",
   "metadata": {},
   "outputs": [
    {
     "name": "stdout",
     "output_type": "stream",
     "text": [
      "{16, 4}\n",
      "{1, 9}\n"
     ]
    }
   ],
   "source": [
    "#Make a set of square of the even num present in the list num\n",
    "\n",
    "my_set_even={i**2 for i in num if i%2==0}  \n",
    "print(my_set)\n",
    "\n",
    "#Odd numbers \n",
    "my_dict_odd={i**2 for i in num if i%2 != 0}\n",
    "print(my_dict_odd)\n"
   ]
  }
 ],
 "metadata": {
  "kernelspec": {
   "display_name": "Python 3",
   "language": "python",
   "name": "python3"
  },
  "language_info": {
   "codemirror_mode": {
    "name": "ipython",
    "version": 3
   },
   "file_extension": ".py",
   "mimetype": "text/x-python",
   "name": "python",
   "nbconvert_exporter": "python",
   "pygments_lexer": "ipython3",
   "version": "3.12.2"
  }
 },
 "nbformat": 4,
 "nbformat_minor": 5
}
