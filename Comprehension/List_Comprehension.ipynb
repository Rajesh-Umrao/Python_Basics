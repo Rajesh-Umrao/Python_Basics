{
 "cells": [
  {
   "cell_type": "markdown",
   "metadata": {},
   "source": [
    "## WHAT IS COMPREHENSION  "
   ]
  },
  {
   "cell_type": "code",
   "execution_count": 4,
   "metadata": {},
   "outputs": [
    {
     "name": "stdout",
     "output_type": "stream",
     "text": [
      "result without comprehension [5, 6, 10, 12, 15, 18]\n",
      "result WITH comprehension    [5, 6, 10, 12, 15, 18]\n"
     ]
    }
   ],
   "source": [
    "# Comprehension is a way of writing compact code \n",
    "\n",
    "#CODE WITHOUT COMPREHENSION\n",
    "\n",
    "l1=[]\n",
    "for i in range(1,4):\n",
    "    for j in range(5,7):\n",
    "        l1.append(i*j)\n",
    "print(f'result without comprehension {l1}')\n",
    "\n",
    "#CODE WITH COMPREHENSION \n",
    "l2=[i*j for i in range(1,4) for j in range(5,7)]\n",
    "print(f'result WITH comprehension    {l2}')"
   ]
  },
  {
   "cell_type": "markdown",
   "metadata": {},
   "source": [
    "## LIST COMPREHENSION "
   ]
  },
  {
   "cell_type": "markdown",
   "metadata": {},
   "source": [
    "#### 1) Basic List comprehension"
   ]
  },
  {
   "cell_type": "code",
   "execution_count": 14,
   "metadata": {},
   "outputs": [
    {
     "name": "stdout",
     "output_type": "stream",
     "text": [
      "Square by normal ways [1, 4, 9, 16, 25, 36, 49, 64]\n",
      "Square by list comprehension [1, 4, 9, 16, 25, 36, 49, 64]\n"
     ]
    }
   ],
   "source": [
    "# problem statement: create a list of square from the list of of num\n",
    "l=[1,2,3,4,5,6,7,8]\n",
    "\n",
    "#normal way \n",
    "sqr=[]\n",
    "for i in l:\n",
    "    sqr.append(i*i)\n",
    "print(f'Square by normal ways {sqr}')\n",
    "\n",
    "\n",
    "#using list comprehension \n",
    "#syntax: l= [expression for item in iterable]\n",
    "sqr=[i*i for i in l]\n",
    "print(f'Square by list comprehension {sqr}')"
   ]
  },
  {
   "cell_type": "markdown",
   "metadata": {},
   "source": [
    "#### 2) list comprension with IF CONDITION"
   ]
  },
  {
   "cell_type": "code",
   "execution_count": null,
   "metadata": {},
   "outputs": [
    {
     "name": "stdout",
     "output_type": "stream",
     "text": [
      "Square of odd num by normal ways [1, 9, 25, 49]\n",
      "Square of odd num by list comprehension [1, 9, 25, 49]\n"
     ]
    }
   ],
   "source": [
    "#Problem: calculate the square of ODD num of a list\n",
    "l=[1,2,3,4,5,6,7,8]\n",
    "\n",
    "#normal method \n",
    "sqr=[]\n",
    "for i in l:\n",
    "    if i%2 !=0:\n",
    "        sqr.append(i*i)\n",
    "print(f'Square of odd num by normal ways {sqr}')\n",
    "\n",
    "#using list comprehension\n",
    "sqr=[i*i for i in l if i%2 !=0] \n",
    "print(f'Square of odd num by list comprehension {sqr}')"
   ]
  },
  {
   "cell_type": "markdown",
   "metadata": {},
   "source": [
    "#### 3) List comprehension with NESTED IF condition "
   ]
  },
  {
   "cell_type": "code",
   "execution_count": 28,
   "metadata": {},
   "outputs": [
    {
     "name": "stdout",
     "output_type": "stream",
     "text": [
      "Square of num divisible by 2 & 3 using loop [36, 144]\n",
      "Square of num divisible by 2 & 3 using LC [36, 144]\n"
     ]
    }
   ],
   "source": [
    "#Problem: find square of num from a list which are divisible by 2 and 3\n",
    "l=[1,2,3,4,5,6,7,8,12]\n",
    "\n",
    "#using normal method \n",
    "sqr=[]\n",
    "for i in l:\n",
    "    if i%2 ==0 :\n",
    "        if i%3 ==0:\n",
    "            sqr.append(i*i)\n",
    "print(f'Square of num divisible by 2 & 3 using loop {sqr}')\n",
    "\n",
    "#using list comprehension \n",
    "sqr=[i*i for i in l if i%2==0 if i%3==0]\n",
    "print(f'Square of num divisible by 2 & 3 using LC {sqr}')"
   ]
  },
  {
   "cell_type": "markdown",
   "metadata": {},
   "source": [
    "#### 4) List comprehension with IF ELSE condition "
   ]
  },
  {
   "cell_type": "code",
   "execution_count": 38,
   "metadata": {},
   "outputs": [
    {
     "name": "stdout",
     "output_type": "stream",
     "text": [
      "using loop [1, 4, 27, 16, 125, 36, 343, 64]\n",
      "using LC   [1, 4, 27, 16, 125, 36, 343, 64]\n"
     ]
    }
   ],
   "source": [
    "#Problem: find square of Eand CUBE of ODD num from a list \n",
    "l=[1,2,3,4,5,6,7,8]\n",
    "\n",
    "#using normal method \n",
    "lst=[]\n",
    "for i in l:\n",
    "    if i%2 ==0 :\n",
    "        lst.append(i*i)  \n",
    "    else:\n",
    "        lst.append(i*i*i)\n",
    "print(f'using loop {lst}')\n",
    "\n",
    "#using list comprehension \n",
    "lst=[i*i if i%2==0 else i*i*i for i in l]\n",
    "print(f'using LC   {lst}')"
   ]
  },
  {
   "cell_type": "markdown",
   "metadata": {},
   "source": [
    "#### 5) LC with IF-ELIF-ELSE condition"
   ]
  },
  {
   "cell_type": "code",
   "execution_count": 43,
   "metadata": {},
   "outputs": [
    {
     "name": "stdout",
     "output_type": "stream",
     "text": [
      "negative\n",
      "negative\n"
     ]
    }
   ],
   "source": [
    "#How changing work?\n",
    "\n",
    "#Normal if-elif-else logic\n",
    "num=int(input('enter a num'))\n",
    "if num >0:\n",
    "    print('Positive')\n",
    "elif num<0:\n",
    "    print('negative')\n",
    "else: \n",
    "    print('zero')\n",
    "\n",
    "#CHAINING: for converting above logic into one line\n",
    "print('positive' if num >0 else 'negative' if num<0 else 'zero')\n",
    "    #1xt chain: 'positive' if num >0 \n",
    "    #2nd chain: 'negative' if num<0\n",
    "    #3rd chain: 'ZERO'"
   ]
  },
  {
   "cell_type": "markdown",
   "metadata": {},
   "source": [
    "#### 6) Nested for loop list comprehension "
   ]
  },
  {
   "cell_type": "code",
   "execution_count": 6,
   "metadata": {},
   "outputs": [
    {
     "name": "stdout",
     "output_type": "stream",
     "text": [
      "list without LC, [5, 6, 10, 12, 15, 18]\n",
      "list with LC     [5, 6, 10, 12, 15, 18]\n"
     ]
    }
   ],
   "source": [
    "#without LC \n",
    "l=[]\n",
    "for i in range(1,4):\n",
    "    for j in range(5,7):\n",
    "        l.append(i*j)\n",
    "print(f'list without LC, {l}')\n",
    "\n",
    "\n",
    "l = [i*j for i in range(1,4) for j in range(5,7) ]\n",
    "print(f'list with LC     {l}')"
   ]
  }
 ],
 "metadata": {
  "kernelspec": {
   "display_name": "Python 3",
   "language": "python",
   "name": "python3"
  },
  "language_info": {
   "codemirror_mode": {
    "name": "ipython",
    "version": 3
   },
   "file_extension": ".py",
   "mimetype": "text/x-python",
   "name": "python",
   "nbconvert_exporter": "python",
   "pygments_lexer": "ipython3",
   "version": "3.12.2"
  }
 },
 "nbformat": 4,
 "nbformat_minor": 2
}
