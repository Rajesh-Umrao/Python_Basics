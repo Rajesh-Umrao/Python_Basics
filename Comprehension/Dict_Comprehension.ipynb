{
 "cells": [
  {
   "cell_type": "markdown",
   "id": "c8a94d25",
   "metadata": {},
   "source": [
    "# List comprehension "
   ]
  },
  {
   "cell_type": "markdown",
   "id": "eb65b68e",
   "metadata": {},
   "source": [
    "### 1) Basic List Comprehension"
   ]
  },
  {
   "cell_type": "code",
   "execution_count": null,
   "id": "8e4c4959",
   "metadata": {},
   "outputs": [
    {
     "name": "stdout",
     "output_type": "stream",
     "text": [
      "Dict without comprehension {1: 1, 2: 4, 3: 9, 4: 16}\n",
      "Dict WITH comprehension    {1: 1, 2: 4, 3: 9, 4: 16}\n"
     ]
    }
   ],
   "source": [
    "#Normal method to create Dict using loop\n",
    "#crete dict having num as key ans square as value \n",
    "num=[1,2,3,4]\n",
    "my_dict ={}\n",
    "for i in num:\n",
    "    my_dict[i]=i**2   #if key is not found it will add\n",
    "print(f'Dict without comprehension {my_dict}')\n",
    "\n",
    "\n",
    "#Dict with comprehension\n",
    "my_dict={i:i**2 for i in num}\n",
    "print(f'Dict WITH comprehension    {my_dict}')"
   ]
  },
  {
   "cell_type": "markdown",
   "id": "0dc3779b",
   "metadata": {},
   "source": [
    "### 2) Dict comprehension with IF CONDITION"
   ]
  },
  {
   "cell_type": "code",
   "execution_count": 12,
   "id": "d4461a27",
   "metadata": {},
   "outputs": [
    {
     "name": "stdout",
     "output_type": "stream",
     "text": [
      "Dict with normal method {2: 4, 4: 16, 6: 36}\n",
      "Dict with comprehension {2: 4, 4: 16, 6: 36}\n"
     ]
    }
   ],
   "source": [
    "#proplem: diction having even num as key and their square as value \n",
    "num =[1,2,3,4,5,6]\n",
    "\n",
    "#normal method\n",
    "dict={}\n",
    "for i in num:\n",
    "    if i%2==0:\n",
    "        dict[i]=i**2\n",
    "print(f'Dict with normal method {dict}')\n",
    "\n",
    "#Dictionary with Dictionary comprehension \n",
    "dict={i:i**2 for i in num if i%2==0}\n",
    "print(f'Dict with comprehension {dict}')"
   ]
  }
 ],
 "metadata": {
  "kernelspec": {
   "display_name": "Python 3",
   "language": "python",
   "name": "python3"
  },
  "language_info": {
   "codemirror_mode": {
    "name": "ipython",
    "version": 3
   },
   "file_extension": ".py",
   "mimetype": "text/x-python",
   "name": "python",
   "nbconvert_exporter": "python",
   "pygments_lexer": "ipython3",
   "version": "3.12.2"
  }
 },
 "nbformat": 4,
 "nbformat_minor": 5
}
