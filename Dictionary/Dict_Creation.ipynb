{
 "cells": [
  {
   "cell_type": "markdown",
   "metadata": {},
   "source": [
    "## Dictinary Creation "
   ]
  },
  {
   "cell_type": "markdown",
   "metadata": {},
   "source": [
    "#### 1) Using curly braces "
   ]
  },
  {
   "cell_type": "code",
   "execution_count": 1,
   "metadata": {},
   "outputs": [
    {
     "name": "stdout",
     "output_type": "stream",
     "text": [
      "{'name': 'raj', 'roll no': 1, 'marks': 90}\n",
      "<class 'dict'>\n"
     ]
    }
   ],
   "source": [
    "# create student details of marks \n",
    "s1={'name':'raj', 'roll no':1, 'marks':90}\n",
    "print(s1)\n",
    "print (type(s1))"
   ]
  },
  {
   "cell_type": "markdown",
   "metadata": {},
   "source": [
    "#### 2) Using dict functions "
   ]
  },
  {
   "cell_type": "code",
   "execution_count": 2,
   "metadata": {},
   "outputs": [
    {
     "name": "stdout",
     "output_type": "stream",
     "text": [
      "{'name': 'raj', 'roll': 1, 'marks': 90}\n",
      "<class 'dict'>\n"
     ]
    }
   ],
   "source": [
    "s2=dict([('name', 'raj'), ('roll', 1), ('marks', 90)])\n",
    "print(s2)\n",
    "print(type(s2))"
   ]
  }
 ],
 "metadata": {
  "kernelspec": {
   "display_name": "Python 3",
   "language": "python",
   "name": "python3"
  },
  "language_info": {
   "codemirror_mode": {
    "name": "ipython",
    "version": 3
   },
   "file_extension": ".py",
   "mimetype": "text/x-python",
   "name": "python",
   "nbconvert_exporter": "python",
   "pygments_lexer": "ipython3",
   "version": "3.12.2"
  }
 },
 "nbformat": 4,
 "nbformat_minor": 2
}
