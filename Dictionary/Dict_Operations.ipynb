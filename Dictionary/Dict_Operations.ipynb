{
 "cells": [
  {
   "cell_type": "markdown",
   "metadata": {},
   "source": [
    "## Operation in Dictionary-General"
   ]
  },
  {
   "cell_type": "markdown",
   "metadata": {},
   "source": [
    "#### 1) Modification of Dictionary's items "
   ]
  },
  {
   "cell_type": "code",
   "execution_count": 4,
   "metadata": {},
   "outputs": [
    {
     "name": "stdout",
     "output_type": "stream",
     "text": [
      "Modified d: {'a': 100, 'b': 2, 'c': 3}\n",
      "Modified dc: {'a': 1, 'b': 2, 'c': 3, 'd': 200}\n"
     ]
    }
   ],
   "source": [
    "#A) If key is available: Then it will modify the dictionary Key value \n",
    "d={'a':1, 'b':2, 'c':3 }\n",
    "d['a']=100\n",
    "print(f'Modified d: {d}')\n",
    "\n",
    "#B) If key is NOT available: Then it will add that key in the dictionary \n",
    "dc ={'a':1, 'b':2, 'c':3 }\n",
    "dc['d']=200 \n",
    "print(f'Modified dc: {dc}')"
   ]
  },
  {
   "cell_type": "markdown",
   "metadata": {},
   "source": [
    "#### 2) Concatenation | Multiplication | operator do not work "
   ]
  },
  {
   "cell_type": "code",
   "execution_count": 10,
   "metadata": {},
   "outputs": [
    {
     "name": "stdout",
     "output_type": "stream",
     "text": [
      "concatenation not possible\n",
      "Multiplication not possible\n",
      "not present\n"
     ]
    }
   ],
   "source": [
    "#Since Dictionary is unordered hence the above operation wont work \n",
    "\n",
    "#A) Concatenation \n",
    "d1={'a':1, 'b':2}\n",
    "d2={'c':3}\n",
    "try: \n",
    "    print(f'concatenated dict: {d1+d2}')\n",
    "except:\n",
    "    print('concatenation not possible')\n",
    "\n",
    "#B) Multiplication\n",
    "d3={'a':1, 'b':2}\n",
    "d4={'c':3}\n",
    "try: \n",
    "    print(f'concatenated dict: {d3+d4}')\n",
    "except:\n",
    "    print('Multiplication not possible')\n",
    "\n",
    "#B) Multiplication\n",
    "d5={'a':1, 'b':2, 'c':3}\n",
    "try: \n",
    "    if 'd' in d5: print('present')\n",
    "    else: print('not present')\n",
    "except:\n",
    "    print('Membership operation not possible')"
   ]
  },
  {
   "cell_type": "markdown",
   "metadata": {},
   "source": [
    "## Dictionary's Built-in Operation "
   ]
  },
  {
   "cell_type": "markdown",
   "metadata": {},
   "source": [
    "#### 1) get()"
   ]
  },
  {
   "cell_type": "code",
   "execution_count": 17,
   "metadata": {},
   "outputs": [
    {
     "name": "stdout",
     "output_type": "stream",
     "text": [
      "python\n",
      "Rest of the code\n",
      "0\n",
      "Rest of the code\n"
     ]
    }
   ],
   "source": [
    "#get():  is used to fetch the value of which is associated which any key \n",
    "    # Importance of get() v/s var[key]\n",
    "        # var[key]: break the flow of execution if key is not found\n",
    "        #get(key, default) : dont break the flow of execution\n",
    "\n",
    "#--------------------------------------------------------------------\n",
    "\n",
    "# CASE-1: if key is present \n",
    "d1={'a':1, 'b':'python', 'c':1.2}\n",
    "print(d1.get('b', 0)) #set default value 0\n",
    "print('Rest of the code')\n",
    "\n",
    "#CASE-2: if key is not present \n",
    "print(d1.get('d', 0)) #set default value 0\n",
    "print('Rest of the code')"
   ]
  },
  {
   "cell_type": "markdown",
   "metadata": {},
   "source": [
    "#### 2) update()- for modifying & adding the items "
   ]
  },
  {
   "cell_type": "code",
   "execution_count": 27,
   "metadata": {},
   "outputs": [
    {
     "name": "stdout",
     "output_type": "stream",
     "text": [
      "updated dict1: {'a': 200, 'b': 2}\n",
      "updated dict2: {'a': 1, 'b': 2, 'c': 200}\n",
      "updated dict3: {'a': 1, 'b': 2, 'c': 200, 'd': 300}\n"
     ]
    }
   ],
   "source": [
    "#update if key is found\n",
    "d1={'a':1, 'b':2}\n",
    "d1.update({'a': 200})\n",
    "print(f'updated dict1: {d1}') \n",
    "\n",
    "#update if key is NOT found- it will add same key value pair \n",
    "d2={'a':1, 'b':2}\n",
    "d2.update({'c': 200})\n",
    "print(f'updated dict2: {d2}') \n",
    "\n",
    "#Adding multiple items \n",
    "d3={'a':1, 'b':2}\n",
    "d3.update({'c': 200, 'd':300})\n",
    "print(f'updated dict3: {d3}') "
   ]
  },
  {
   "cell_type": "markdown",
   "metadata": {},
   "source": [
    "#### 3) Removing the items "
   ]
  },
  {
   "cell_type": "markdown",
   "metadata": {},
   "source": [
    "##### 3.1) clear()"
   ]
  },
  {
   "cell_type": "code",
   "execution_count": 43,
   "metadata": {},
   "outputs": [
    {
     "name": "stdout",
     "output_type": "stream",
     "text": [
      "{}\n"
     ]
    }
   ],
   "source": [
    "d={'a':1, 'b':2, 'c':3}\n",
    "d.clear()\n",
    "print(d)"
   ]
  },
  {
   "cell_type": "markdown",
   "metadata": {},
   "source": [
    "##### 3.2) pop()-remove specified key/item "
   ]
  },
  {
   "cell_type": "code",
   "execution_count": 42,
   "metadata": {},
   "outputs": [
    {
     "name": "stdout",
     "output_type": "stream",
     "text": [
      "poped value: 1\n",
      "dict after pop: {'b': 2, 'c': 3}\n"
     ]
    }
   ],
   "source": [
    "d={'a':1, 'b':2, 'c':3}\n",
    "x=d.pop('a')\n",
    "print(f'poped value: {x}\\ndict after pop: {d}')"
   ]
  },
  {
   "cell_type": "markdown",
   "metadata": {},
   "source": [
    "##### 3.3)popitem()- remove any item at random"
   ]
  },
  {
   "cell_type": "code",
   "execution_count": null,
   "metadata": {},
   "outputs": [
    {
     "name": "stdout",
     "output_type": "stream",
     "text": [
      "poped item: ('c', 3)\n",
      "dict after pop: {'a': 1, 'b': 2}\n"
     ]
    }
   ],
   "source": [
    "d={'a':1, 'b':2, 'c':3}\n",
    "x=d.popitem()     #return a tuple \n",
    "print(f'poped item: {x}\\ndict after pop: {d}')\n",
    "d."
   ]
  },
  {
   "cell_type": "markdown",
   "metadata": {},
   "source": [
    "#### 4) copy() "
   ]
  },
  {
   "cell_type": "code",
   "execution_count": 46,
   "metadata": {},
   "outputs": [
    {
     "name": "stdout",
     "output_type": "stream",
     "text": [
      "{'a': 1, 'b': 2, 'c': 3}\n"
     ]
    }
   ],
   "source": [
    "d={'a':1, 'b':2, 'c':3}\n",
    "x=d.copy()\n",
    "print(x)"
   ]
  },
  {
   "cell_type": "code",
   "execution_count": 48,
   "metadata": {},
   "outputs": [
    {
     "name": "stdout",
     "output_type": "stream",
     "text": [
      "a\n",
      "b\n",
      "c\n",
      "a 1\n",
      "b 2\n",
      "c 3\n"
     ]
    }
   ],
   "source": [
    "d={'a':1, 'b':2, 'c':3}\n",
    "for item in d:\n",
    "    print(item) # this will give only keys \n",
    "\n",
    "#if you want key value pairs \n",
    "d={'a':1, 'b':2, 'c':3}\n",
    "for item in d:\n",
    "    print(item, d[item]) # this will give only keys "
   ]
  },
  {
   "cell_type": "markdown",
   "metadata": {},
   "source": [
    "## Dictionary's view objects "
   ]
  },
  {
   "cell_type": "markdown",
   "metadata": {},
   "source": [
    "##### 1) Dynamic Dice view  "
   ]
  },
  {
   "cell_type": "code",
   "execution_count": 7,
   "metadata": {},
   "outputs": [
    {
     "name": "stdout",
     "output_type": "stream",
     "text": [
      "key view: dict_keys(['name', 'age', 'city'])\n",
      "<class 'dict_keys'>\n",
      "dict_values(['Alice', 25, 'New York'])\n",
      "<class 'dict_values'>\n",
      "dict_items([('name', 'Alice'), ('age', 25), ('city', 'New York')])\n",
      "<class 'dict_items'>\n"
     ]
    }
   ],
   "source": [
    "#Create a dictionary \n",
    "my_dict = {\"name\": \"Alice\", \"age\": 25, \"city\": \"New York\"}\n",
    "\n",
    "#Getting view of the Dictionary \n",
    "#1) key view \n",
    "key_view =my_dict.keys()\n",
    "print(f'key view: {key_view }')\n",
    "print(type(key_view))\n",
    "\n",
    "#2) Dict value view \n",
    "value_view=my_dict.values()\n",
    "print(value_view)\n",
    "print(type(value_view))\n",
    "\n",
    "#3) Dict's items view \n",
    "items_view = my_dict.items()\n",
    "print(items_view)\n",
    "print(type(items_view)) \n"
   ]
  },
  {
   "cell_type": "markdown",
   "metadata": {},
   "source": [
    "##### 2) Static Dict View "
   ]
  },
  {
   "cell_type": "code",
   "execution_count": 9,
   "metadata": {},
   "outputs": [
    {
     "name": "stdout",
     "output_type": "stream",
     "text": [
      "['name', 'age', 'city']\n",
      "['Alice', 25, 'New York']\n",
      "[('name', 'Alice'), ('age', 25), ('city', 'New York')]\n"
     ]
    }
   ],
   "source": [
    "my_dict = {\"name\": \"Alice\", \"age\": 25, \"city\": \"New York\"}\n",
    "keys_list = list(my_dict.keys())\n",
    "values_list = list(my_dict.values())\n",
    "items_list = list(my_dict.items())\n",
    "\n",
    "print(keys_list)   # ['name', 'age', 'city', 'gender']\n",
    "print(values_list) # ['Alice', 25, 'New York', 'Female']\n",
    "print(items_list)  # [('name', 'Alice'), ('age', 25), ('city', 'New York'), ('gender', 'Female')]\n"
   ]
  },
  {
   "cell_type": "markdown",
   "metadata": {},
   "source": [
    "## setdefault() method "
   ]
  },
  {
   "cell_type": "code",
   "execution_count": 13,
   "metadata": {},
   "outputs": [
    {
     "name": "stdout",
     "output_type": "stream",
     "text": [
      "100\n",
      "{'raj': 100, 'roll no': 2, 'city': 'delhi'}\n",
      "200\n",
      "{'raj': 100, 'roll no': 2, 'city': 'delhi', 'king': 200}\n",
      "None\n",
      "{'raj': 100, 'roll no': 2, 'city': 'delhi', 'king': 200, 'pub': None}\n"
     ]
    }
   ],
   "source": [
    "st={'raj':100, 'roll no': 2, 'city':'delhi'}\n",
    "\n",
    "# if key exist \n",
    "d=st.setdefault('raj', 200)\n",
    "print(d)\n",
    "print(st)\n",
    "\n",
    "# if key NOT exist \n",
    "d=st.setdefault('king', 200)\n",
    "print(d)\n",
    "print(st)\n",
    "\n",
    "#if defaulet value not given \n",
    "d=st.setdefault('pub')\n",
    "print(d)\n",
    "print(st)"
   ]
  }
 ],
 "metadata": {
  "kernelspec": {
   "display_name": "Python 3",
   "language": "python",
   "name": "python3"
  },
  "language_info": {
   "codemirror_mode": {
    "name": "ipython",
    "version": 3
   },
   "file_extension": ".py",
   "mimetype": "text/x-python",
   "name": "python",
   "nbconvert_exporter": "python",
   "pygments_lexer": "ipython3",
   "version": "3.12.2"
  }
 },
 "nbformat": 4,
 "nbformat_minor": 2
}
